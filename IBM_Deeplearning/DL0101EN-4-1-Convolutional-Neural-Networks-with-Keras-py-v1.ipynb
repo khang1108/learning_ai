{
 "cells": [
  {
   "cell_type": "markdown",
   "id": "6a259076-5a31-482e-b598-0138c6bfe11a",
   "metadata": {},
   "source": [
    "<a href=\"https://cognitiveclass.ai\"><img src=\"https://cf-courses-data.s3.us.cloud-object-storage.appdomain.cloud/IBMDeveloperSkillsNetwork-DL0101EN-SkillsNetwork/images/IDSN-logo.png\" width=\"400\"> </a>\n",
    "\n",
    "# Convolutional Neural Networks with Keras\n",
    "\n",
    "Estimated time needed **30** mins\n"
   ]
  },
  {
   "cell_type": "markdown",
   "id": "2a86cd7f-c191-4c78-92a5-2479b13cba2b",
   "metadata": {},
   "source": [
    "In this lab, we will learn how to use the Keras library to build convolutional neural networks. We will also use the popular MNIST dataset and we will compare our results to using a conventional neural network.\n"
   ]
  },
  {
   "cell_type": "markdown",
   "id": "a7c948e3-995c-45c0-86f0-8916fbee6b02",
   "metadata": {},
   "source": [
    "## Objectives for this Notebook    \n",
    "* How to use the Keras library to build convolutional neural networks\n",
    "* Convolutional neural network with one set of convolutional and pooling layers\n",
    "* Convolutional neural network with two sets of convolutional and pooling layers\n",
    "\n"
   ]
  },
  {
   "cell_type": "markdown",
   "id": "82e267c1-74e4-4f30-be50-15b58d592add",
   "metadata": {},
   "source": [
    "## Table of Contents\n",
    "\n",
    "<div class=\"alert alert-block alert-info\" style=\"margin-top: 20px\">\n",
    "\n",
    "<font size = 3>\n",
    "      \n",
    "1. <a href=\"#Import-Keras-and-Packages\">Import Keras and Packages</a>   \n",
    "2. <a href=\"#Convolutional-Neural-Network-with-One-Set-of-Convolutional-and-Pooling-Layers\">Convolutional Neural Network with One Set of Convolutional and Pooling Layers</a>  \n",
    "3. <a href=\"#Convolutional-Neural-Network-with-Two-Sets-of-Convolutional-and-Pooling-Layers\">Convolutional Neural Network with Two Sets of Convolutional and Pooling Layers</a>  \n",
    "\n",
    "</font>\n",
    "</div>\n"
   ]
  },
  {
   "cell_type": "markdown",
   "id": "a2725718-c839-403f-8017-236d760c20c0",
   "metadata": {},
   "source": [
    "### Install the necessary libraries\n"
   ]
  },
  {
   "cell_type": "markdown",
   "id": "5860a2ee-ec49-4add-ad79-556d6960495a",
   "metadata": {},
   "source": [
    "Let's start by installing the keras libraries and the packages that we would need to build a neural network.\n"
   ]
  },
  {
   "cell_type": "code",
   "execution_count": null,
   "id": "dc5e450c-e81e-42b1-a564-7d59bd960067",
   "metadata": {},
   "outputs": [],
   "source": [
    "# All Libraries required for this lab are listed below. The libraries need to be installed on Skills Network Labs. \n",
    "# If you run this notebook on a different environment, e.g. your desktop, you may want to install these.\n",
    "# !pip install numpy==2.0.2\n",
    "# !pip install pandas==2.2.2\n",
    "# !pip install tensorflow_cpu==2.18.0\n",
    "# !pip install matplotlib==3.9.2"
   ]
  },
  {
   "cell_type": "markdown",
   "id": "df48ab35-3ce3-4d73-9e9f-142c1c272773",
   "metadata": {},
   "source": [
    "#### Suppress the tensorflow warning messages\n",
    "We use the following code to  suppress the warning messages due to use of CPU architechture for tensoflow.\n",
    "You may want to **comment out** these lines if you are using the GPU architechture\n"
   ]
  },
  {
   "cell_type": "code",
   "execution_count": 1,
   "id": "c4d79a7c-6cbc-4b7c-8f6e-23c4d3dbec4f",
   "metadata": {},
   "outputs": [],
   "source": [
    "import os\n",
    "os.environ['TF_ENABLE_ONEDNN_OPTS'] = '0'\n",
    "os.environ['TF_CPP_MIN_LOG_LEVEL'] = '2'"
   ]
  },
  {
   "cell_type": "markdown",
   "id": "c8cb5959-7529-4024-aabe-711e02b1a573",
   "metadata": {},
   "source": [
    "## Import Keras and Packages\n"
   ]
  },
  {
   "cell_type": "code",
   "execution_count": 2,
   "id": "54f7f5de-dd4f-4160-97a7-41fc13358596",
   "metadata": {},
   "outputs": [
    {
     "name": "stderr",
     "output_type": "stream",
     "text": [
      "/run/media/phuckhang/HDD/Coursera/IBM_Deeplearning/coursera/lib/python3.13/site-packages/google/protobuf/runtime_version.py:98: UserWarning: Protobuf gencode version 5.28.3 is exactly one major version older than the runtime version 6.31.1 at tensorflow/core/framework/attr_value.proto. Please update the gencode to avoid compatibility violations in the next runtime release.\n",
      "  warnings.warn(\n",
      "/run/media/phuckhang/HDD/Coursera/IBM_Deeplearning/coursera/lib/python3.13/site-packages/google/protobuf/runtime_version.py:98: UserWarning: Protobuf gencode version 5.28.3 is exactly one major version older than the runtime version 6.31.1 at tensorflow/core/framework/tensor.proto. Please update the gencode to avoid compatibility violations in the next runtime release.\n",
      "  warnings.warn(\n",
      "/run/media/phuckhang/HDD/Coursera/IBM_Deeplearning/coursera/lib/python3.13/site-packages/google/protobuf/runtime_version.py:98: UserWarning: Protobuf gencode version 5.28.3 is exactly one major version older than the runtime version 6.31.1 at tensorflow/core/framework/resource_handle.proto. Please update the gencode to avoid compatibility violations in the next runtime release.\n",
      "  warnings.warn(\n",
      "/run/media/phuckhang/HDD/Coursera/IBM_Deeplearning/coursera/lib/python3.13/site-packages/google/protobuf/runtime_version.py:98: UserWarning: Protobuf gencode version 5.28.3 is exactly one major version older than the runtime version 6.31.1 at tensorflow/core/framework/tensor_shape.proto. Please update the gencode to avoid compatibility violations in the next runtime release.\n",
      "  warnings.warn(\n",
      "/run/media/phuckhang/HDD/Coursera/IBM_Deeplearning/coursera/lib/python3.13/site-packages/google/protobuf/runtime_version.py:98: UserWarning: Protobuf gencode version 5.28.3 is exactly one major version older than the runtime version 6.31.1 at tensorflow/core/framework/types.proto. Please update the gencode to avoid compatibility violations in the next runtime release.\n",
      "  warnings.warn(\n",
      "/run/media/phuckhang/HDD/Coursera/IBM_Deeplearning/coursera/lib/python3.13/site-packages/google/protobuf/runtime_version.py:98: UserWarning: Protobuf gencode version 5.28.3 is exactly one major version older than the runtime version 6.31.1 at tensorflow/core/framework/full_type.proto. Please update the gencode to avoid compatibility violations in the next runtime release.\n",
      "  warnings.warn(\n",
      "/run/media/phuckhang/HDD/Coursera/IBM_Deeplearning/coursera/lib/python3.13/site-packages/google/protobuf/runtime_version.py:98: UserWarning: Protobuf gencode version 5.28.3 is exactly one major version older than the runtime version 6.31.1 at tensorflow/core/framework/function.proto. Please update the gencode to avoid compatibility violations in the next runtime release.\n",
      "  warnings.warn(\n",
      "/run/media/phuckhang/HDD/Coursera/IBM_Deeplearning/coursera/lib/python3.13/site-packages/google/protobuf/runtime_version.py:98: UserWarning: Protobuf gencode version 5.28.3 is exactly one major version older than the runtime version 6.31.1 at tensorflow/core/framework/node_def.proto. Please update the gencode to avoid compatibility violations in the next runtime release.\n",
      "  warnings.warn(\n",
      "/run/media/phuckhang/HDD/Coursera/IBM_Deeplearning/coursera/lib/python3.13/site-packages/google/protobuf/runtime_version.py:98: UserWarning: Protobuf gencode version 5.28.3 is exactly one major version older than the runtime version 6.31.1 at tensorflow/core/framework/op_def.proto. Please update the gencode to avoid compatibility violations in the next runtime release.\n",
      "  warnings.warn(\n",
      "/run/media/phuckhang/HDD/Coursera/IBM_Deeplearning/coursera/lib/python3.13/site-packages/google/protobuf/runtime_version.py:98: UserWarning: Protobuf gencode version 5.28.3 is exactly one major version older than the runtime version 6.31.1 at tensorflow/core/framework/graph.proto. Please update the gencode to avoid compatibility violations in the next runtime release.\n",
      "  warnings.warn(\n",
      "/run/media/phuckhang/HDD/Coursera/IBM_Deeplearning/coursera/lib/python3.13/site-packages/google/protobuf/runtime_version.py:98: UserWarning: Protobuf gencode version 5.28.3 is exactly one major version older than the runtime version 6.31.1 at tensorflow/core/framework/graph_debug_info.proto. Please update the gencode to avoid compatibility violations in the next runtime release.\n",
      "  warnings.warn(\n",
      "/run/media/phuckhang/HDD/Coursera/IBM_Deeplearning/coursera/lib/python3.13/site-packages/google/protobuf/runtime_version.py:98: UserWarning: Protobuf gencode version 5.28.3 is exactly one major version older than the runtime version 6.31.1 at tensorflow/core/framework/versions.proto. Please update the gencode to avoid compatibility violations in the next runtime release.\n",
      "  warnings.warn(\n",
      "/run/media/phuckhang/HDD/Coursera/IBM_Deeplearning/coursera/lib/python3.13/site-packages/google/protobuf/runtime_version.py:98: UserWarning: Protobuf gencode version 5.28.3 is exactly one major version older than the runtime version 6.31.1 at tensorflow/core/protobuf/config.proto. Please update the gencode to avoid compatibility violations in the next runtime release.\n",
      "  warnings.warn(\n",
      "/run/media/phuckhang/HDD/Coursera/IBM_Deeplearning/coursera/lib/python3.13/site-packages/google/protobuf/runtime_version.py:98: UserWarning: Protobuf gencode version 5.28.3 is exactly one major version older than the runtime version 6.31.1 at xla/tsl/protobuf/coordination_config.proto. Please update the gencode to avoid compatibility violations in the next runtime release.\n",
      "  warnings.warn(\n",
      "/run/media/phuckhang/HDD/Coursera/IBM_Deeplearning/coursera/lib/python3.13/site-packages/google/protobuf/runtime_version.py:98: UserWarning: Protobuf gencode version 5.28.3 is exactly one major version older than the runtime version 6.31.1 at tensorflow/core/framework/cost_graph.proto. Please update the gencode to avoid compatibility violations in the next runtime release.\n",
      "  warnings.warn(\n",
      "/run/media/phuckhang/HDD/Coursera/IBM_Deeplearning/coursera/lib/python3.13/site-packages/google/protobuf/runtime_version.py:98: UserWarning: Protobuf gencode version 5.28.3 is exactly one major version older than the runtime version 6.31.1 at tensorflow/core/framework/step_stats.proto. Please update the gencode to avoid compatibility violations in the next runtime release.\n",
      "  warnings.warn(\n",
      "/run/media/phuckhang/HDD/Coursera/IBM_Deeplearning/coursera/lib/python3.13/site-packages/google/protobuf/runtime_version.py:98: UserWarning: Protobuf gencode version 5.28.3 is exactly one major version older than the runtime version 6.31.1 at tensorflow/core/framework/allocation_description.proto. Please update the gencode to avoid compatibility violations in the next runtime release.\n",
      "  warnings.warn(\n",
      "/run/media/phuckhang/HDD/Coursera/IBM_Deeplearning/coursera/lib/python3.13/site-packages/google/protobuf/runtime_version.py:98: UserWarning: Protobuf gencode version 5.28.3 is exactly one major version older than the runtime version 6.31.1 at tensorflow/core/framework/tensor_description.proto. Please update the gencode to avoid compatibility violations in the next runtime release.\n",
      "  warnings.warn(\n",
      "/run/media/phuckhang/HDD/Coursera/IBM_Deeplearning/coursera/lib/python3.13/site-packages/google/protobuf/runtime_version.py:98: UserWarning: Protobuf gencode version 5.28.3 is exactly one major version older than the runtime version 6.31.1 at tensorflow/core/protobuf/cluster.proto. Please update the gencode to avoid compatibility violations in the next runtime release.\n",
      "  warnings.warn(\n",
      "/run/media/phuckhang/HDD/Coursera/IBM_Deeplearning/coursera/lib/python3.13/site-packages/google/protobuf/runtime_version.py:98: UserWarning: Protobuf gencode version 5.28.3 is exactly one major version older than the runtime version 6.31.1 at tensorflow/core/protobuf/debug.proto. Please update the gencode to avoid compatibility violations in the next runtime release.\n",
      "  warnings.warn(\n"
     ]
    }
   ],
   "source": [
    "import keras\n",
    "from keras.models import Sequential\n",
    "from keras.layers import Dense\n",
    "from keras.layers import Input\n",
    "from keras.utils import to_categorical"
   ]
  },
  {
   "cell_type": "markdown",
   "id": "6ae6ee1f-c5f9-4136-a661-d0ecad7bc618",
   "metadata": {},
   "source": [
    "When working with convolutional neural networks in particular, we will need additional packages.\n"
   ]
  },
  {
   "cell_type": "code",
   "execution_count": 3,
   "id": "59965020-f741-41d0-8b70-00253641ff4c",
   "metadata": {},
   "outputs": [],
   "source": [
    "from keras.layers import Conv2D # to add convolutional layers\n",
    "from keras.layers import MaxPooling2D # to add pooling layers\n",
    "from keras.layers import Flatten # to flatten data for fully connected layers"
   ]
  },
  {
   "cell_type": "markdown",
   "id": "b4be0cd5-9e2a-44f7-a6de-1fdc46923fb4",
   "metadata": {},
   "source": [
    "## Convolutional Neural Network with One Set of Convolutional and Pooling Layers\n"
   ]
  },
  {
   "cell_type": "code",
   "execution_count": 4,
   "id": "21cd5320-20a6-4e90-89be-81af7990a4c5",
   "metadata": {},
   "outputs": [],
   "source": [
    "# import data\n",
    "from keras.datasets import mnist\n",
    "\n",
    "# load data\n",
    "(X_train, y_train), (X_test, y_test) = mnist.load_data()\n",
    "\n",
    "# reshape to be [samples][pixels][width][height]\n",
    "X_train = X_train.reshape(X_train.shape[0], 28, 28, 1).astype('float32')\n",
    "X_test = X_test.reshape(X_test.shape[0], 28, 28, 1).astype('float32')"
   ]
  },
  {
   "cell_type": "markdown",
   "id": "82a804cb-2ea6-4925-94a1-ef4ba5a2ef1d",
   "metadata": {},
   "source": [
    "Let's normalize the pixel values to be between 0 and 1\n"
   ]
  },
  {
   "cell_type": "code",
   "execution_count": 6,
   "id": "26b2fc47-fbfb-42ce-bfe7-d1cda99d4988",
   "metadata": {},
   "outputs": [],
   "source": [
    "X_train = X_train / 255 # normalize training data\n",
    "X_test = X_test / 255 # normalize test data"
   ]
  },
  {
   "cell_type": "markdown",
   "id": "58622fd9-b0ff-408c-baf5-4db94f8a0a97",
   "metadata": {},
   "source": [
    "Next, let's convert the target variable into binary categories\n"
   ]
  },
  {
   "cell_type": "code",
   "execution_count": 7,
   "id": "c01c40ef-75ba-4c87-954a-4f5ecef7b41f",
   "metadata": {},
   "outputs": [],
   "source": [
    "y_train = to_categorical(y_train)\n",
    "y_test = to_categorical(y_test)\n",
    "\n",
    "num_classes = y_test.shape[1] # number of categories"
   ]
  },
  {
   "cell_type": "markdown",
   "id": "2c42c05a-ae9e-44bc-ab58-5b5c55c6cc43",
   "metadata": {},
   "source": [
    "Next, let's define a function that creates our model. Let's start with one set of convolutional and pooling layers.\n"
   ]
  },
  {
   "cell_type": "code",
   "execution_count": 8,
   "id": "678716df-28c6-4944-872b-2ab253d7ea68",
   "metadata": {},
   "outputs": [],
   "source": [
    "def convolutional_model():\n",
    "    \n",
    "    # create model\n",
    "    model = Sequential()\n",
    "    model.add(Input(shape=(28, 28, 1)))\n",
    "    model.add(Conv2D(16, (5, 5), strides=(1, 1), activation='relu'))\n",
    "    model.add(MaxPooling2D(pool_size=(2, 2), strides=(2, 2)))\n",
    "    \n",
    "    model.add(Flatten())\n",
    "    model.add(Dense(100, activation='relu'))\n",
    "    model.add(Dense(num_classes, activation='softmax'))\n",
    "    \n",
    "    # compile model\n",
    "    model.compile(optimizer='adam', loss='categorical_crossentropy',  metrics=['accuracy'])\n",
    "    return model"
   ]
  },
  {
   "cell_type": "markdown",
   "id": "d94c41fa-0fae-482c-b4f5-0729d31569c2",
   "metadata": {},
   "source": [
    "Finally, let's call the function to create the model, and then let's train it and evaluate it.\n"
   ]
  },
  {
   "cell_type": "code",
   "execution_count": 9,
   "id": "095aa859-c641-4d6d-abb6-a1712a64f89b",
   "metadata": {},
   "outputs": [
    {
     "name": "stderr",
     "output_type": "stream",
     "text": [
      "2025-07-31 16:34:50.723860: E external/local_xla/xla/stream_executor/cuda/cuda_platform.cc:51] failed call to cuInit: INTERNAL: CUDA error: Failed call to cuInit: UNKNOWN ERROR (303)\n"
     ]
    },
    {
     "name": "stdout",
     "output_type": "stream",
     "text": [
      "Epoch 1/10\n",
      "300/300 - 8s - 28ms/step - accuracy: 0.5487 - loss: 1.5765 - val_accuracy: 0.8144 - val_loss: 0.7000\n",
      "Epoch 2/10\n",
      "300/300 - 8s - 26ms/step - accuracy: 0.8477 - loss: 0.5430 - val_accuracy: 0.8775 - val_loss: 0.4470\n",
      "Epoch 3/10\n",
      "300/300 - 8s - 26ms/step - accuracy: 0.8810 - loss: 0.4098 - val_accuracy: 0.8927 - val_loss: 0.3679\n",
      "Epoch 4/10\n",
      "300/300 - 8s - 26ms/step - accuracy: 0.8924 - loss: 0.3638 - val_accuracy: 0.9021 - val_loss: 0.3342\n",
      "Epoch 5/10\n",
      "300/300 - 7s - 22ms/step - accuracy: 0.9015 - loss: 0.3355 - val_accuracy: 0.9073 - val_loss: 0.3170\n",
      "Epoch 6/10\n",
      "300/300 - 7s - 23ms/step - accuracy: 0.9071 - loss: 0.3131 - val_accuracy: 0.9150 - val_loss: 0.2905\n",
      "Epoch 7/10\n",
      "300/300 - 7s - 23ms/step - accuracy: 0.9141 - loss: 0.2897 - val_accuracy: 0.9185 - val_loss: 0.2714\n",
      "Epoch 8/10\n",
      "300/300 - 7s - 23ms/step - accuracy: 0.9214 - loss: 0.2666 - val_accuracy: 0.9268 - val_loss: 0.2493\n",
      "Epoch 9/10\n",
      "300/300 - 7s - 23ms/step - accuracy: 0.9284 - loss: 0.2435 - val_accuracy: 0.9353 - val_loss: 0.2262\n",
      "Epoch 10/10\n",
      "300/300 - 7s - 23ms/step - accuracy: 0.9357 - loss: 0.2200 - val_accuracy: 0.9415 - val_loss: 0.2058\n",
      "Accuracy: 0.9415000081062317 \n",
      " Error: 5.849999189376831\n"
     ]
    }
   ],
   "source": [
    "# build the model\n",
    "model = convolutional_model()\n",
    "\n",
    "# fit the model\n",
    "model.fit(X_train, y_train, validation_data=(X_test, y_test), epochs=10, batch_size=200, verbose=2)\n",
    "\n",
    "# evaluate the model\n",
    "scores = model.evaluate(X_test, y_test, verbose=0)\n",
    "print(\"Accuracy: {} \\n Error: {}\".format(scores[1], 100-scores[1]*100))"
   ]
  },
  {
   "cell_type": "markdown",
   "id": "bdadb672-3dd5-47c8-b2aa-b573faec12ab",
   "metadata": {},
   "source": [
    "------------------------------------------\n"
   ]
  },
  {
   "cell_type": "markdown",
   "id": "8346bc8d-b06d-4e59-ab6d-38ab51f7e3a2",
   "metadata": {},
   "source": [
    "## Convolutional Neural Network with Two Sets of Convolutional and Pooling Layers\n"
   ]
  },
  {
   "cell_type": "markdown",
   "id": "ed6adec1-b389-4d45-a94b-c3f378106a02",
   "metadata": {},
   "source": [
    "Let's redefine our convolutional model so that it has two convolutional and pooling layers instead of just one layer of each.\n"
   ]
  },
  {
   "cell_type": "code",
   "execution_count": 10,
   "id": "1238bc6e-7594-48f2-b239-83fd36c4838d",
   "metadata": {},
   "outputs": [],
   "source": [
    "def convolutional_model():\n",
    "    \n",
    "    # create model\n",
    "    model = Sequential()\n",
    "    model.add(Input(shape=(28, 28, 1)))\n",
    "    model.add(Conv2D(16, (5, 5), activation='relu'))\n",
    "    model.add(MaxPooling2D(pool_size=(2, 2), strides=(2, 2)))\n",
    "    \n",
    "    model.add(Conv2D(8, (2, 2), activation='relu'))\n",
    "    model.add(MaxPooling2D(pool_size=(2, 2), strides=(2, 2)))\n",
    "    \n",
    "    model.add(Flatten())\n",
    "    model.add(Dense(100, activation='relu'))\n",
    "    model.add(Dense(num_classes, activation='softmax'))\n",
    "    \n",
    "    # Compile model\n",
    "    model.compile(optimizer='adam', loss='categorical_crossentropy',  metrics=['accuracy'])\n",
    "    return model"
   ]
  },
  {
   "cell_type": "markdown",
   "id": "ad1e634f-0a4a-475b-95da-b6e322a83c46",
   "metadata": {},
   "source": [
    "Now, let's call the function to create our new convolutional neural network, and then let's train it and evaluate it.\n"
   ]
  },
  {
   "cell_type": "code",
   "execution_count": 11,
   "id": "3c0465aa-295a-49e7-92bb-050edb59e3df",
   "metadata": {},
   "outputs": [
    {
     "name": "stdout",
     "output_type": "stream",
     "text": [
      "Epoch 1/10\n",
      "300/300 - 8s - 25ms/step - accuracy: 0.5285 - loss: 1.5342 - val_accuracy: 0.8117 - val_loss: 0.6561\n",
      "Epoch 2/10\n",
      "300/300 - 7s - 22ms/step - accuracy: 0.8413 - loss: 0.5372 - val_accuracy: 0.8702 - val_loss: 0.4380\n",
      "Epoch 3/10\n",
      "300/300 - 6s - 21ms/step - accuracy: 0.8765 - loss: 0.4144 - val_accuracy: 0.8910 - val_loss: 0.3656\n",
      "Epoch 4/10\n",
      "300/300 - 6s - 21ms/step - accuracy: 0.8902 - loss: 0.3617 - val_accuracy: 0.9022 - val_loss: 0.3249\n",
      "Epoch 5/10\n",
      "300/300 - 7s - 22ms/step - accuracy: 0.9006 - loss: 0.3257 - val_accuracy: 0.9135 - val_loss: 0.2902\n",
      "Epoch 6/10\n",
      "300/300 - 7s - 23ms/step - accuracy: 0.9097 - loss: 0.2955 - val_accuracy: 0.9200 - val_loss: 0.2640\n",
      "Epoch 7/10\n",
      "300/300 - 7s - 24ms/step - accuracy: 0.9185 - loss: 0.2690 - val_accuracy: 0.9264 - val_loss: 0.2408\n",
      "Epoch 8/10\n",
      "300/300 - 8s - 26ms/step - accuracy: 0.9259 - loss: 0.2459 - val_accuracy: 0.9336 - val_loss: 0.2209\n",
      "Epoch 9/10\n",
      "300/300 - 7s - 23ms/step - accuracy: 0.9321 - loss: 0.2251 - val_accuracy: 0.9402 - val_loss: 0.2050\n",
      "Epoch 10/10\n",
      "300/300 - 8s - 26ms/step - accuracy: 0.9372 - loss: 0.2062 - val_accuracy: 0.9442 - val_loss: 0.1849\n",
      "Accuracy: 0.9441999793052673 \n",
      " Error: 5.580002069473267\n"
     ]
    }
   ],
   "source": [
    "# build the model\n",
    "model = convolutional_model()\n",
    "\n",
    "# fit the model\n",
    "model.fit(X_train, y_train, validation_data=(X_test, y_test), epochs=10, batch_size=200, verbose=2)\n",
    "\n",
    "# evaluate the model\n",
    "scores = model.evaluate(X_test, y_test, verbose=0)\n",
    "print(\"Accuracy: {} \\n Error: {}\".format(scores[1], 100-scores[1]*100))"
   ]
  },
  {
   "cell_type": "markdown",
   "id": "1461351b-e85e-431a-94f7-7a803ad091f0",
   "metadata": {},
   "source": [
    "<h3>Practice Exercise 1</h3>\n"
   ]
  },
  {
   "cell_type": "markdown",
   "id": "b552fc94-0831-4569-bc0e-c5b9b153b70d",
   "metadata": {},
   "source": [
    "Let's see how batch size affects the time required and accuracy of the model training. \n",
    "For this, you can try to change batch_size to 1024 and check it's effect on accuracy\n"
   ]
  },
  {
   "cell_type": "code",
   "execution_count": 13,
   "id": "f01355d9-0484-4b16-8419-fd6e64640806",
   "metadata": {},
   "outputs": [
    {
     "name": "stdout",
     "output_type": "stream",
     "text": [
      "Epoch 1/10\n",
      "59/59 - 7s - 125ms/step - accuracy: 0.1136 - loss: 2.2942 - val_accuracy: 0.2089 - val_loss: 2.2660\n",
      "Epoch 2/10\n",
      "59/59 - 6s - 106ms/step - accuracy: 0.4125 - loss: 2.0593 - val_accuracy: 0.6379 - val_loss: 1.6463\n",
      "Epoch 3/10\n",
      "59/59 - 7s - 118ms/step - accuracy: 0.6985 - loss: 1.1968 - val_accuracy: 0.7683 - val_loss: 0.8159\n",
      "Epoch 4/10\n",
      "59/59 - 7s - 111ms/step - accuracy: 0.7900 - loss: 0.7113 - val_accuracy: 0.8188 - val_loss: 0.5954\n",
      "Epoch 5/10\n",
      "59/59 - 7s - 115ms/step - accuracy: 0.8267 - loss: 0.5732 - val_accuracy: 0.8441 - val_loss: 0.5118\n",
      "Epoch 6/10\n",
      "59/59 - 6s - 103ms/step - accuracy: 0.8477 - loss: 0.5051 - val_accuracy: 0.8600 - val_loss: 0.4623\n",
      "Epoch 7/10\n",
      "59/59 - 6s - 103ms/step - accuracy: 0.8594 - loss: 0.4656 - val_accuracy: 0.8698 - val_loss: 0.4311\n",
      "Epoch 8/10\n",
      "59/59 - 6s - 102ms/step - accuracy: 0.8692 - loss: 0.4352 - val_accuracy: 0.8767 - val_loss: 0.4089\n",
      "Epoch 9/10\n",
      "59/59 - 6s - 102ms/step - accuracy: 0.8758 - loss: 0.4130 - val_accuracy: 0.8826 - val_loss: 0.3868\n",
      "Epoch 10/10\n",
      "59/59 - 6s - 103ms/step - accuracy: 0.8815 - loss: 0.3941 - val_accuracy: 0.8874 - val_loss: 0.3713\n",
      "Accuracy: 0.8873999714851379 \n",
      " Error: 11.260002851486206\n"
     ]
    }
   ],
   "source": [
    "# Write your answer here\n",
    "model = convolutional_model()\n",
    "\n",
    "model.fit(X_train, y_train, validation_data = (X_test, y_test), epochs=10, batch_size = 1024, verbose = 2)\n",
    "\n",
    "scores = model.evaluate(X_test, y_test, verbose = 0)\n",
    "print(\"Accuracy: {} \\n Error: {}\".format(scores[1], 100-scores[1]*100))\n"
   ]
  },
  {
   "cell_type": "markdown",
   "id": "5bb6cc35-d6d9-4d82-97ff-44f59a729e0f",
   "metadata": {},
   "source": [
    "Double-click <b>here</b> for the solution.\n",
    "\n",
    "<!-- Your answer is below:\n",
    "# build the model\n",
    "model = convolutional_model()\n",
    "\n",
    "# fit the model\n",
    "model.fit(X_train, y_train, validation_data=(X_test, y_test), epochs=10, batch_size=1024, verbose=2)\n",
    "\n",
    "# evaluate the model\n",
    "scores = model.evaluate(X_test, y_test, verbose=0)\n",
    "print(\"Accuracy: {} \\n Error: {}\".format(scores[1], 100-scores[1]*100))\n",
    "-->\n"
   ]
  },
  {
   "cell_type": "markdown",
   "id": "2a03ad9b-825d-47ae-be77-e3bf1885c08e",
   "metadata": {},
   "source": [
    "<h3>Practice Exercise 2</h3>\n"
   ]
  },
  {
   "cell_type": "markdown",
   "id": "5989a3e9-0d9c-4769-a33d-fc22447a82bd",
   "metadata": {},
   "source": [
    "Now, let's see how number of epochs  affect the time required and accuracy of the model training. \n",
    "For this, you can keep the batch_size=1024 and epochs=25 and check it's effect on accuracy\n"
   ]
  },
  {
   "cell_type": "code",
   "execution_count": 14,
   "id": "f9e95cec-0929-4e21-82f2-88b829c59460",
   "metadata": {},
   "outputs": [
    {
     "name": "stdout",
     "output_type": "stream",
     "text": [
      "Epoch 1/25\n",
      "59/59 - 7s - 125ms/step - accuracy: 0.1248 - loss: 2.2949 - val_accuracy: 0.2706 - val_loss: 2.2704\n",
      "Epoch 2/25\n",
      "59/59 - 6s - 105ms/step - accuracy: 0.3853 - loss: 2.1132 - val_accuracy: 0.4760 - val_loss: 1.7988\n",
      "Epoch 3/25\n",
      "59/59 - 6s - 101ms/step - accuracy: 0.6378 - loss: 1.3875 - val_accuracy: 0.7163 - val_loss: 1.0030\n",
      "Epoch 4/25\n",
      "59/59 - 6s - 99ms/step - accuracy: 0.7665 - loss: 0.8284 - val_accuracy: 0.8094 - val_loss: 0.6747\n",
      "Epoch 5/25\n",
      "59/59 - 6s - 99ms/step - accuracy: 0.8192 - loss: 0.6241 - val_accuracy: 0.8356 - val_loss: 0.5525\n",
      "Epoch 6/25\n",
      "59/59 - 6s - 101ms/step - accuracy: 0.8412 - loss: 0.5359 - val_accuracy: 0.8552 - val_loss: 0.4871\n",
      "Epoch 7/25\n",
      "59/59 - 6s - 99ms/step - accuracy: 0.8547 - loss: 0.4856 - val_accuracy: 0.8665 - val_loss: 0.4485\n",
      "Epoch 8/25\n",
      "59/59 - 6s - 102ms/step - accuracy: 0.8648 - loss: 0.4518 - val_accuracy: 0.8751 - val_loss: 0.4206\n",
      "Epoch 9/25\n",
      "59/59 - 6s - 99ms/step - accuracy: 0.8710 - loss: 0.4246 - val_accuracy: 0.8783 - val_loss: 0.3992\n",
      "Epoch 10/25\n",
      "59/59 - 6s - 100ms/step - accuracy: 0.8771 - loss: 0.4047 - val_accuracy: 0.8856 - val_loss: 0.3823\n",
      "Epoch 11/25\n",
      "59/59 - 6s - 100ms/step - accuracy: 0.8820 - loss: 0.3881 - val_accuracy: 0.8870 - val_loss: 0.3661\n",
      "Epoch 12/25\n",
      "59/59 - 6s - 100ms/step - accuracy: 0.8863 - loss: 0.3739 - val_accuracy: 0.8896 - val_loss: 0.3535\n",
      "Epoch 13/25\n",
      "59/59 - 6s - 100ms/step - accuracy: 0.8895 - loss: 0.3617 - val_accuracy: 0.8962 - val_loss: 0.3430\n",
      "Epoch 14/25\n",
      "59/59 - 6s - 100ms/step - accuracy: 0.8930 - loss: 0.3501 - val_accuracy: 0.8982 - val_loss: 0.3295\n",
      "Epoch 15/25\n",
      "59/59 - 7s - 113ms/step - accuracy: 0.8961 - loss: 0.3401 - val_accuracy: 0.8996 - val_loss: 0.3230\n",
      "Epoch 16/25\n",
      "59/59 - 6s - 102ms/step - accuracy: 0.8985 - loss: 0.3297 - val_accuracy: 0.9044 - val_loss: 0.3129\n",
      "Epoch 17/25\n",
      "59/59 - 6s - 102ms/step - accuracy: 0.9025 - loss: 0.3190 - val_accuracy: 0.9081 - val_loss: 0.2999\n",
      "Epoch 18/25\n",
      "59/59 - 6s - 100ms/step - accuracy: 0.9055 - loss: 0.3089 - val_accuracy: 0.9079 - val_loss: 0.2964\n",
      "Epoch 19/25\n",
      "59/59 - 6s - 102ms/step - accuracy: 0.9076 - loss: 0.3011 - val_accuracy: 0.9133 - val_loss: 0.2813\n",
      "Epoch 20/25\n",
      "59/59 - 6s - 102ms/step - accuracy: 0.9097 - loss: 0.2925 - val_accuracy: 0.9156 - val_loss: 0.2762\n",
      "Epoch 21/25\n",
      "59/59 - 7s - 114ms/step - accuracy: 0.9121 - loss: 0.2844 - val_accuracy: 0.9193 - val_loss: 0.2665\n",
      "Epoch 22/25\n",
      "59/59 - 6s - 101ms/step - accuracy: 0.9160 - loss: 0.2754 - val_accuracy: 0.9200 - val_loss: 0.2586\n",
      "Epoch 23/25\n",
      "59/59 - 6s - 102ms/step - accuracy: 0.9175 - loss: 0.2682 - val_accuracy: 0.9229 - val_loss: 0.2529\n",
      "Epoch 24/25\n",
      "59/59 - 6s - 101ms/step - accuracy: 0.9203 - loss: 0.2598 - val_accuracy: 0.9254 - val_loss: 0.2472\n",
      "Epoch 25/25\n",
      "59/59 - 6s - 101ms/step - accuracy: 0.9228 - loss: 0.2540 - val_accuracy: 0.9294 - val_loss: 0.2381\n",
      "Accuracy: 0.9294000267982483 \n",
      " Error: 7.059997320175171\n"
     ]
    }
   ],
   "source": [
    "# Write your answer here\n",
    "\n",
    "# Write your answer here\n",
    "model = convolutional_model()\n",
    "\n",
    "model.fit(X_train, y_train, validation_data = (X_test, y_test), epochs=25, batch_size = 1024, verbose = 2)\n",
    "\n",
    "scores = model.evaluate(X_test, y_test, verbose = 0)\n",
    "print(\"Accuracy: {} \\n Error: {}\".format(scores[1], 100-scores[1]*100))\n"
   ]
  },
  {
   "cell_type": "markdown",
   "id": "51c6e6da-7d0d-4090-9fb8-98f22d051bdb",
   "metadata": {},
   "source": [
    "Double-click <b>here</b> for the solution.\n",
    "\n",
    "<!-- Your answer is below:\n",
    "# build the model\n",
    "model = convolutional_model()\n",
    "\n",
    "# fit the model\n",
    "model.fit(X_train, y_train, validation_data=(X_test, y_test), epochs=25, batch_size=1024, verbose=2)\n",
    "\n",
    "# evaluate the model\n",
    "scores = model.evaluate(X_test, y_test, verbose=0)\n",
    "print(\"Accuracy: {} \\n Error: {}\".format(scores[1], 100-scores[1]*100))\n",
    "\n",
    "\n",
    "    -->\n"
   ]
  },
  {
   "cell_type": "markdown",
   "id": "844cc9d3-9e42-433a-9767-c03f0c1eb77d",
   "metadata": {},
   "source": [
    "### Thank you for completing this lab!\n",
    "\n",
    "This notebook was created by [Alex Aklson](https://www.linkedin.com/in/aklson/). I hope you found this lab interesting and educational. Feel free to contact me if you have any questions!\n"
   ]
  },
  {
   "cell_type": "markdown",
   "id": "5e3e2e36-9537-40c4-80bc-24e056e0b3c0",
   "metadata": {},
   "source": [
    "<!--\n",
    "## Change Log\n",
    "\n",
    "|  Date (YYYY-MM-DD) |  Version | Changed By  |  Change Description |\n",
    "|---|---|---|---|\n",
    "| 2024-11-20  | 3.0  | Aman  |  Updated the library versions to current |\n",
    "| 2020-09-21  | 2.0  | Srishti  |  Migrated Lab to Markdown and added to course repo in GitLab |\n",
    "\n",
    "\n",
    "\n",
    "<hr>\n",
    "\n",
    "## <h3 align=\"center\"> © IBM Corporation. All rights reserved. <h3/>\n"
   ]
  },
  {
   "cell_type": "markdown",
   "id": "ab20d78f-6c72-4aad-b35d-e2e770c39d5e",
   "metadata": {},
   "source": [
    "## <h3 align=\"center\"> &#169; IBM Corporation. All rights reserved. <h3/>\n",
    "\n"
   ]
  }
 ],
 "metadata": {
  "kernelspec": {
   "display_name": "coursera",
   "language": "python",
   "name": "python3"
  },
  "language_info": {
   "codemirror_mode": {
    "name": "ipython",
    "version": 3
   },
   "file_extension": ".py",
   "mimetype": "text/x-python",
   "name": "python",
   "nbconvert_exporter": "python",
   "pygments_lexer": "ipython3",
   "version": "3.13.5"
  },
  "prev_pub_hash": "cf25684b5f40b85f8cce20a89cf822f405779387881f3fd281fbe1317debe407"
 },
 "nbformat": 4,
 "nbformat_minor": 4
}
