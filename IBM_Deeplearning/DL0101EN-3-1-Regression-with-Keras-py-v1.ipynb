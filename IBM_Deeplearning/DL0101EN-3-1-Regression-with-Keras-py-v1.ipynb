{
 "cells": [
  {
   "cell_type": "markdown",
   "id": "1eda0f65-4088-4f5d-81fb-54c922d717fe",
   "metadata": {},
   "source": [
    "<a href=\"https://cognitiveclass.ai\"><img src=\"https://cf-courses-data.s3.us.cloud-object-storage.appdomain.cloud/IBMDeveloperSkillsNetwork-DL0101EN-SkillsNetwork/images/IDSN-logo.png\" width=\"400\"> </a>\n",
    "\n",
    "# Regression Models with Keras\n",
    "\n",
    "Estimated time needed: **45** mins\n"
   ]
  },
  {
   "cell_type": "markdown",
   "id": "56de949e-2f07-4bfc-b596-66c4dbc3ad08",
   "metadata": {},
   "source": [
    "## Introduction\n"
   ]
  },
  {
   "cell_type": "markdown",
   "id": "40c8c644-1745-44f1-ac92-417fcfd89e91",
   "metadata": {},
   "source": [
    "As we discussed in the videos, despite the popularity of more powerful libraries such as PyToch and TensorFlow, they are not easy to use and have a steep learning curve. So, for people who are just starting to learn deep learning, there is no better library to use other than the Keras library. \n",
    "\n",
    "Keras is a high-level API for building deep learning models. It has gained favor for its ease of use and syntactic simplicity facilitating fast development. As you will see in this lab and the other labs in this course, building a very complex deep learning network can be achieved with Keras with only few lines of code. You will appreciate Keras even more, once you learn how to build deep models using PyTorch and TensorFlow in the other courses.\n",
    "\n",
    "So, in this lab, you will learn how to use the Keras library to build a regression model.\n"
   ]
  },
  {
   "cell_type": "markdown",
   "id": "00495c9e-f515-4a70-a3eb-b56a7025cfe1",
   "metadata": {},
   "source": [
    "## Objectives for this Notebook    \n",
    "* How to use the Keras library to build a regression model\n",
    "* Download and clean the data set\n",
    "* Build a neural network\n",
    "* Train and test the network     \n",
    "\n"
   ]
  },
  {
   "cell_type": "markdown",
   "id": "926d0b44-e9c9-4fb0-9d79-1dedf08b7548",
   "metadata": {},
   "source": [
    "## Table of Contents\n",
    "\n",
    "<div class=\"alert alert-block alert-info\" style=\"margin-top: 20px\">\n",
    "\n",
    "<font size = 3>\n",
    "    \n",
    "1. <a href=\"#item31\">Download and Clean the Data Set</a>  \n",
    "2. <a href=\"#item32\">Import Keras Packages</a>\n",
    "3. <a href=\"#item33\">Build a Neural Network</a>\n",
    "4. <a href=\"#item34\">Train and Test the Network</a>  \n",
    "\n",
    "</font>\n",
    "</div>\n"
   ]
  },
  {
   "cell_type": "markdown",
   "id": "c1949bf5-8eee-4e63-ae62-d78212d3e710",
   "metadata": {},
   "source": [
    "<a id=\"item31\"></a>\n"
   ]
  },
  {
   "cell_type": "markdown",
   "id": "44711dc8-f383-431f-9704-c403df1bd032",
   "metadata": {},
   "source": [
    "## Download and Clean the  Data Set\n"
   ]
  },
  {
   "cell_type": "markdown",
   "id": "9d5804de-a405-42b7-8383-5e9f9a98410e",
   "metadata": {},
   "source": [
    "Let's start by importing the <em>pandas</em> and the Numpy libraries.\n"
   ]
  },
  {
   "cell_type": "code",
   "execution_count": null,
   "id": "17c66237-b921-4ba6-ae65-b42b07b42008",
   "metadata": {},
   "outputs": [
    {
     "name": "stdout",
     "output_type": "stream",
     "text": [
      "Collecting pandas==2.2.2\n",
      "  Downloading pandas-2.2.2.tar.gz (4.4 MB)\n",
      "\u001b[2K     \u001b[90m━━━━━━━━━━━━━━━━━━━━━━━━━━━━━━━━━━━━━━━━\u001b[0m \u001b[32m4.4/4.4 MB\u001b[0m \u001b[31m23.2 MB/s\u001b[0m eta \u001b[36m0:00:00\u001b[0ma \u001b[36m0:00:01\u001b[0m\n",
      "\u001b[?25h  Installing build dependencies ... \u001b[?25ldone\n",
      "\u001b[?25h  Getting requirements to build wheel ... \u001b[?25ldone\n",
      "\u001b[?25h  Installing backend dependencies ... \u001b[?25ldone\n",
      "\u001b[?25h  Preparing metadata (pyproject.toml) ... \u001b[?25l-"
     ]
    }
   ],
   "source": [
    "# All Libraries required for this lab are listed below. The libraries pre-installed on Skills Network Labs are commented. \n",
    "# If you run this notebook on a different environment, e.g. your desktop, you may need to uncomment and install certain libraries.\n",
    "# !pip install numpy==2.0.2\n",
    "!pip install pandas==2.2.2\n",
    "!pip install tensorflow_cpu==2.18.0\n"
   ]
  },
  {
   "cell_type": "markdown",
   "id": "f8455537-0a49-41bd-8cc6-db5cb77401b6",
   "metadata": {},
   "source": [
    "##### To use Keras, you will also need to install a backend framework – such as TensorFlow.\n",
    "\n",
    "If you install TensorFlow 2.16 or above, it will install Keras by default.\n",
    "\n",
    "We are using the CPU version of tensorflow since we are dealing with smaller datasets. \n",
    "You may install the GPU version of tensorflow on your machine to accelarate the processing of larger datasets\n"
   ]
  },
  {
   "cell_type": "code",
   "execution_count": 1,
   "id": "32f50378-a0d4-447d-909f-bc75d88df8b8",
   "metadata": {},
   "outputs": [
    {
     "name": "stderr",
     "output_type": "stream",
     "text": [
      "2025-07-31 15:52:37.285985: I external/local_xla/xla/tsl/cuda/cudart_stub.cc:31] Could not find cuda drivers on your machine, GPU will not be used.\n",
      "2025-07-31 15:52:37.350827: I tensorflow/core/platform/cpu_feature_guard.cc:210] This TensorFlow binary is optimized to use available CPU instructions in performance-critical operations.\n",
      "To enable the following instructions: AVX2 FMA, in other operations, rebuild TensorFlow with the appropriate compiler flags.\n",
      "/run/media/phuckhang/HDD/Coursera/IBM_Deeplearning/coursera/lib/python3.13/site-packages/google/protobuf/runtime_version.py:98: UserWarning: Protobuf gencode version 5.28.3 is exactly one major version older than the runtime version 6.31.1 at tensorflow/core/framework/attr_value.proto. Please update the gencode to avoid compatibility violations in the next runtime release.\n",
      "  warnings.warn(\n",
      "/run/media/phuckhang/HDD/Coursera/IBM_Deeplearning/coursera/lib/python3.13/site-packages/google/protobuf/runtime_version.py:98: UserWarning: Protobuf gencode version 5.28.3 is exactly one major version older than the runtime version 6.31.1 at tensorflow/core/framework/tensor.proto. Please update the gencode to avoid compatibility violations in the next runtime release.\n",
      "  warnings.warn(\n",
      "/run/media/phuckhang/HDD/Coursera/IBM_Deeplearning/coursera/lib/python3.13/site-packages/google/protobuf/runtime_version.py:98: UserWarning: Protobuf gencode version 5.28.3 is exactly one major version older than the runtime version 6.31.1 at tensorflow/core/framework/resource_handle.proto. Please update the gencode to avoid compatibility violations in the next runtime release.\n",
      "  warnings.warn(\n",
      "/run/media/phuckhang/HDD/Coursera/IBM_Deeplearning/coursera/lib/python3.13/site-packages/google/protobuf/runtime_version.py:98: UserWarning: Protobuf gencode version 5.28.3 is exactly one major version older than the runtime version 6.31.1 at tensorflow/core/framework/tensor_shape.proto. Please update the gencode to avoid compatibility violations in the next runtime release.\n",
      "  warnings.warn(\n",
      "/run/media/phuckhang/HDD/Coursera/IBM_Deeplearning/coursera/lib/python3.13/site-packages/google/protobuf/runtime_version.py:98: UserWarning: Protobuf gencode version 5.28.3 is exactly one major version older than the runtime version 6.31.1 at tensorflow/core/framework/types.proto. Please update the gencode to avoid compatibility violations in the next runtime release.\n",
      "  warnings.warn(\n",
      "/run/media/phuckhang/HDD/Coursera/IBM_Deeplearning/coursera/lib/python3.13/site-packages/google/protobuf/runtime_version.py:98: UserWarning: Protobuf gencode version 5.28.3 is exactly one major version older than the runtime version 6.31.1 at tensorflow/core/framework/full_type.proto. Please update the gencode to avoid compatibility violations in the next runtime release.\n",
      "  warnings.warn(\n",
      "/run/media/phuckhang/HDD/Coursera/IBM_Deeplearning/coursera/lib/python3.13/site-packages/google/protobuf/runtime_version.py:98: UserWarning: Protobuf gencode version 5.28.3 is exactly one major version older than the runtime version 6.31.1 at tensorflow/core/framework/function.proto. Please update the gencode to avoid compatibility violations in the next runtime release.\n",
      "  warnings.warn(\n",
      "/run/media/phuckhang/HDD/Coursera/IBM_Deeplearning/coursera/lib/python3.13/site-packages/google/protobuf/runtime_version.py:98: UserWarning: Protobuf gencode version 5.28.3 is exactly one major version older than the runtime version 6.31.1 at tensorflow/core/framework/node_def.proto. Please update the gencode to avoid compatibility violations in the next runtime release.\n",
      "  warnings.warn(\n",
      "/run/media/phuckhang/HDD/Coursera/IBM_Deeplearning/coursera/lib/python3.13/site-packages/google/protobuf/runtime_version.py:98: UserWarning: Protobuf gencode version 5.28.3 is exactly one major version older than the runtime version 6.31.1 at tensorflow/core/framework/op_def.proto. Please update the gencode to avoid compatibility violations in the next runtime release.\n",
      "  warnings.warn(\n",
      "/run/media/phuckhang/HDD/Coursera/IBM_Deeplearning/coursera/lib/python3.13/site-packages/google/protobuf/runtime_version.py:98: UserWarning: Protobuf gencode version 5.28.3 is exactly one major version older than the runtime version 6.31.1 at tensorflow/core/framework/graph.proto. Please update the gencode to avoid compatibility violations in the next runtime release.\n",
      "  warnings.warn(\n",
      "/run/media/phuckhang/HDD/Coursera/IBM_Deeplearning/coursera/lib/python3.13/site-packages/google/protobuf/runtime_version.py:98: UserWarning: Protobuf gencode version 5.28.3 is exactly one major version older than the runtime version 6.31.1 at tensorflow/core/framework/graph_debug_info.proto. Please update the gencode to avoid compatibility violations in the next runtime release.\n",
      "  warnings.warn(\n",
      "/run/media/phuckhang/HDD/Coursera/IBM_Deeplearning/coursera/lib/python3.13/site-packages/google/protobuf/runtime_version.py:98: UserWarning: Protobuf gencode version 5.28.3 is exactly one major version older than the runtime version 6.31.1 at tensorflow/core/framework/versions.proto. Please update the gencode to avoid compatibility violations in the next runtime release.\n",
      "  warnings.warn(\n",
      "/run/media/phuckhang/HDD/Coursera/IBM_Deeplearning/coursera/lib/python3.13/site-packages/google/protobuf/runtime_version.py:98: UserWarning: Protobuf gencode version 5.28.3 is exactly one major version older than the runtime version 6.31.1 at tensorflow/core/protobuf/config.proto. Please update the gencode to avoid compatibility violations in the next runtime release.\n",
      "  warnings.warn(\n",
      "/run/media/phuckhang/HDD/Coursera/IBM_Deeplearning/coursera/lib/python3.13/site-packages/google/protobuf/runtime_version.py:98: UserWarning: Protobuf gencode version 5.28.3 is exactly one major version older than the runtime version 6.31.1 at xla/tsl/protobuf/coordination_config.proto. Please update the gencode to avoid compatibility violations in the next runtime release.\n",
      "  warnings.warn(\n",
      "/run/media/phuckhang/HDD/Coursera/IBM_Deeplearning/coursera/lib/python3.13/site-packages/google/protobuf/runtime_version.py:98: UserWarning: Protobuf gencode version 5.28.3 is exactly one major version older than the runtime version 6.31.1 at tensorflow/core/framework/cost_graph.proto. Please update the gencode to avoid compatibility violations in the next runtime release.\n",
      "  warnings.warn(\n",
      "/run/media/phuckhang/HDD/Coursera/IBM_Deeplearning/coursera/lib/python3.13/site-packages/google/protobuf/runtime_version.py:98: UserWarning: Protobuf gencode version 5.28.3 is exactly one major version older than the runtime version 6.31.1 at tensorflow/core/framework/step_stats.proto. Please update the gencode to avoid compatibility violations in the next runtime release.\n",
      "  warnings.warn(\n",
      "/run/media/phuckhang/HDD/Coursera/IBM_Deeplearning/coursera/lib/python3.13/site-packages/google/protobuf/runtime_version.py:98: UserWarning: Protobuf gencode version 5.28.3 is exactly one major version older than the runtime version 6.31.1 at tensorflow/core/framework/allocation_description.proto. Please update the gencode to avoid compatibility violations in the next runtime release.\n",
      "  warnings.warn(\n",
      "/run/media/phuckhang/HDD/Coursera/IBM_Deeplearning/coursera/lib/python3.13/site-packages/google/protobuf/runtime_version.py:98: UserWarning: Protobuf gencode version 5.28.3 is exactly one major version older than the runtime version 6.31.1 at tensorflow/core/framework/tensor_description.proto. Please update the gencode to avoid compatibility violations in the next runtime release.\n",
      "  warnings.warn(\n",
      "/run/media/phuckhang/HDD/Coursera/IBM_Deeplearning/coursera/lib/python3.13/site-packages/google/protobuf/runtime_version.py:98: UserWarning: Protobuf gencode version 5.28.3 is exactly one major version older than the runtime version 6.31.1 at tensorflow/core/protobuf/cluster.proto. Please update the gencode to avoid compatibility violations in the next runtime release.\n",
      "  warnings.warn(\n",
      "/run/media/phuckhang/HDD/Coursera/IBM_Deeplearning/coursera/lib/python3.13/site-packages/google/protobuf/runtime_version.py:98: UserWarning: Protobuf gencode version 5.28.3 is exactly one major version older than the runtime version 6.31.1 at tensorflow/core/protobuf/debug.proto. Please update the gencode to avoid compatibility violations in the next runtime release.\n",
      "  warnings.warn(\n",
      "2025-07-31 15:52:38.650424: I external/local_xla/xla/tsl/cuda/cudart_stub.cc:31] Could not find cuda drivers on your machine, GPU will not be used.\n"
     ]
    }
   ],
   "source": [
    "import pandas as pd\n",
    "import numpy as np\n",
    "import keras\n",
    "\n",
    "import warnings\n",
    "warnings.simplefilter('ignore', FutureWarning)"
   ]
  },
  {
   "cell_type": "markdown",
   "id": "28470001-211a-4270-a742-32e4bdc239bc",
   "metadata": {},
   "source": [
    "We will be playing around with the same dataset that we used in the videos.\n",
    "\n",
    "<strong>The dataset is about the compressive strength of different samples of concrete based on the volumes of the different ingredients that were used to make them. Ingredients include:</strong>\n",
    "\n",
    "* Cement\n",
    "* Blast furnace slag\n",
    "* Fly ash\n",
    "* Water\n",
    "* Superplasticizer\n",
    "* Coarse aggregate\n",
    "* Fine aggregate\n"
   ]
  },
  {
   "cell_type": "markdown",
   "id": "ae54918e-64e4-40c3-8738-122870ef7c10",
   "metadata": {},
   "source": [
    "Let's download the data and read it into a <em>pandas</em> dataframe.\n"
   ]
  },
  {
   "cell_type": "code",
   "execution_count": 2,
   "id": "5f1e26e4-268b-4fe2-8538-688611b57561",
   "metadata": {},
   "outputs": [
    {
     "data": {
      "text/html": [
       "<div>\n",
       "<style scoped>\n",
       "    .dataframe tbody tr th:only-of-type {\n",
       "        vertical-align: middle;\n",
       "    }\n",
       "\n",
       "    .dataframe tbody tr th {\n",
       "        vertical-align: top;\n",
       "    }\n",
       "\n",
       "    .dataframe thead th {\n",
       "        text-align: right;\n",
       "    }\n",
       "</style>\n",
       "<table border=\"1\" class=\"dataframe\">\n",
       "  <thead>\n",
       "    <tr style=\"text-align: right;\">\n",
       "      <th></th>\n",
       "      <th>Cement</th>\n",
       "      <th>Blast Furnace Slag</th>\n",
       "      <th>Fly Ash</th>\n",
       "      <th>Water</th>\n",
       "      <th>Superplasticizer</th>\n",
       "      <th>Coarse Aggregate</th>\n",
       "      <th>Fine Aggregate</th>\n",
       "      <th>Age</th>\n",
       "      <th>Strength</th>\n",
       "    </tr>\n",
       "  </thead>\n",
       "  <tbody>\n",
       "    <tr>\n",
       "      <th>0</th>\n",
       "      <td>540.0</td>\n",
       "      <td>0.0</td>\n",
       "      <td>0.0</td>\n",
       "      <td>162.0</td>\n",
       "      <td>2.5</td>\n",
       "      <td>1040.0</td>\n",
       "      <td>676.0</td>\n",
       "      <td>28</td>\n",
       "      <td>79.99</td>\n",
       "    </tr>\n",
       "    <tr>\n",
       "      <th>1</th>\n",
       "      <td>540.0</td>\n",
       "      <td>0.0</td>\n",
       "      <td>0.0</td>\n",
       "      <td>162.0</td>\n",
       "      <td>2.5</td>\n",
       "      <td>1055.0</td>\n",
       "      <td>676.0</td>\n",
       "      <td>28</td>\n",
       "      <td>61.89</td>\n",
       "    </tr>\n",
       "    <tr>\n",
       "      <th>2</th>\n",
       "      <td>332.5</td>\n",
       "      <td>142.5</td>\n",
       "      <td>0.0</td>\n",
       "      <td>228.0</td>\n",
       "      <td>0.0</td>\n",
       "      <td>932.0</td>\n",
       "      <td>594.0</td>\n",
       "      <td>270</td>\n",
       "      <td>40.27</td>\n",
       "    </tr>\n",
       "    <tr>\n",
       "      <th>3</th>\n",
       "      <td>332.5</td>\n",
       "      <td>142.5</td>\n",
       "      <td>0.0</td>\n",
       "      <td>228.0</td>\n",
       "      <td>0.0</td>\n",
       "      <td>932.0</td>\n",
       "      <td>594.0</td>\n",
       "      <td>365</td>\n",
       "      <td>41.05</td>\n",
       "    </tr>\n",
       "    <tr>\n",
       "      <th>4</th>\n",
       "      <td>198.6</td>\n",
       "      <td>132.4</td>\n",
       "      <td>0.0</td>\n",
       "      <td>192.0</td>\n",
       "      <td>0.0</td>\n",
       "      <td>978.4</td>\n",
       "      <td>825.5</td>\n",
       "      <td>360</td>\n",
       "      <td>44.30</td>\n",
       "    </tr>\n",
       "  </tbody>\n",
       "</table>\n",
       "</div>"
      ],
      "text/plain": [
       "   Cement  Blast Furnace Slag  Fly Ash  Water  Superplasticizer  \\\n",
       "0   540.0                 0.0      0.0  162.0               2.5   \n",
       "1   540.0                 0.0      0.0  162.0               2.5   \n",
       "2   332.5               142.5      0.0  228.0               0.0   \n",
       "3   332.5               142.5      0.0  228.0               0.0   \n",
       "4   198.6               132.4      0.0  192.0               0.0   \n",
       "\n",
       "   Coarse Aggregate  Fine Aggregate  Age  Strength  \n",
       "0            1040.0           676.0   28     79.99  \n",
       "1            1055.0           676.0   28     61.89  \n",
       "2             932.0           594.0  270     40.27  \n",
       "3             932.0           594.0  365     41.05  \n",
       "4             978.4           825.5  360     44.30  "
      ]
     },
     "execution_count": 2,
     "metadata": {},
     "output_type": "execute_result"
    }
   ],
   "source": [
    "filepath='https://s3-api.us-geo.objectstorage.softlayer.net/cf-courses-data/CognitiveClass/DL0101EN/labs/data/concrete_data.csv'\n",
    "concrete_data = pd.read_csv(filepath)\n",
    "\n",
    "concrete_data.head()"
   ]
  },
  {
   "cell_type": "markdown",
   "id": "40b04058-b925-47ae-a94a-23dddfc34166",
   "metadata": {},
   "source": [
    "So the first concrete sample has 540 cubic meter of cement, 0 cubic meter of blast furnace slag, 0 cubic meter of fly ash, 162 cubic meter of water, 2.5 cubic meter of superplaticizer, 1040 cubic meter of coarse aggregate, 676 cubic meter of fine aggregate. Such a concrete mix which is 28 days old, has a compressive strength of 79.99 MPa. \n"
   ]
  },
  {
   "cell_type": "markdown",
   "id": "c7ff2456-5852-4abe-aa36-b480f56c803a",
   "metadata": {},
   "source": [
    "#### Let's check how many data points we have\n"
   ]
  },
  {
   "cell_type": "code",
   "execution_count": 3,
   "id": "954b6e9a-5b70-44a9-aed4-dab6bbc42230",
   "metadata": {},
   "outputs": [
    {
     "data": {
      "text/plain": [
       "(1030, 9)"
      ]
     },
     "execution_count": 3,
     "metadata": {},
     "output_type": "execute_result"
    }
   ],
   "source": [
    "concrete_data.shape"
   ]
  },
  {
   "cell_type": "markdown",
   "id": "a2e3375b-0821-4822-b928-b40ad2575882",
   "metadata": {},
   "source": [
    "So, there are approximately 1000 samples to train our model on. Because of the few samples, we have to be careful not to overfit the training data.\n"
   ]
  },
  {
   "cell_type": "markdown",
   "id": "1f842f64-3b47-49aa-b64e-5b22f4b31c46",
   "metadata": {},
   "source": [
    "Let's check the dataset for any missing values.\n"
   ]
  },
  {
   "cell_type": "code",
   "execution_count": 4,
   "id": "c6bb2a79-be5a-49b8-9b3b-f98a0b95855c",
   "metadata": {},
   "outputs": [
    {
     "data": {
      "text/html": [
       "<div>\n",
       "<style scoped>\n",
       "    .dataframe tbody tr th:only-of-type {\n",
       "        vertical-align: middle;\n",
       "    }\n",
       "\n",
       "    .dataframe tbody tr th {\n",
       "        vertical-align: top;\n",
       "    }\n",
       "\n",
       "    .dataframe thead th {\n",
       "        text-align: right;\n",
       "    }\n",
       "</style>\n",
       "<table border=\"1\" class=\"dataframe\">\n",
       "  <thead>\n",
       "    <tr style=\"text-align: right;\">\n",
       "      <th></th>\n",
       "      <th>Cement</th>\n",
       "      <th>Blast Furnace Slag</th>\n",
       "      <th>Fly Ash</th>\n",
       "      <th>Water</th>\n",
       "      <th>Superplasticizer</th>\n",
       "      <th>Coarse Aggregate</th>\n",
       "      <th>Fine Aggregate</th>\n",
       "      <th>Age</th>\n",
       "      <th>Strength</th>\n",
       "    </tr>\n",
       "  </thead>\n",
       "  <tbody>\n",
       "    <tr>\n",
       "      <th>count</th>\n",
       "      <td>1030.000000</td>\n",
       "      <td>1030.000000</td>\n",
       "      <td>1030.000000</td>\n",
       "      <td>1030.000000</td>\n",
       "      <td>1030.000000</td>\n",
       "      <td>1030.000000</td>\n",
       "      <td>1030.000000</td>\n",
       "      <td>1030.000000</td>\n",
       "      <td>1030.000000</td>\n",
       "    </tr>\n",
       "    <tr>\n",
       "      <th>mean</th>\n",
       "      <td>281.167864</td>\n",
       "      <td>73.895825</td>\n",
       "      <td>54.188350</td>\n",
       "      <td>181.567282</td>\n",
       "      <td>6.204660</td>\n",
       "      <td>972.918932</td>\n",
       "      <td>773.580485</td>\n",
       "      <td>45.662136</td>\n",
       "      <td>35.817961</td>\n",
       "    </tr>\n",
       "    <tr>\n",
       "      <th>std</th>\n",
       "      <td>104.506364</td>\n",
       "      <td>86.279342</td>\n",
       "      <td>63.997004</td>\n",
       "      <td>21.354219</td>\n",
       "      <td>5.973841</td>\n",
       "      <td>77.753954</td>\n",
       "      <td>80.175980</td>\n",
       "      <td>63.169912</td>\n",
       "      <td>16.705742</td>\n",
       "    </tr>\n",
       "    <tr>\n",
       "      <th>min</th>\n",
       "      <td>102.000000</td>\n",
       "      <td>0.000000</td>\n",
       "      <td>0.000000</td>\n",
       "      <td>121.800000</td>\n",
       "      <td>0.000000</td>\n",
       "      <td>801.000000</td>\n",
       "      <td>594.000000</td>\n",
       "      <td>1.000000</td>\n",
       "      <td>2.330000</td>\n",
       "    </tr>\n",
       "    <tr>\n",
       "      <th>25%</th>\n",
       "      <td>192.375000</td>\n",
       "      <td>0.000000</td>\n",
       "      <td>0.000000</td>\n",
       "      <td>164.900000</td>\n",
       "      <td>0.000000</td>\n",
       "      <td>932.000000</td>\n",
       "      <td>730.950000</td>\n",
       "      <td>7.000000</td>\n",
       "      <td>23.710000</td>\n",
       "    </tr>\n",
       "    <tr>\n",
       "      <th>50%</th>\n",
       "      <td>272.900000</td>\n",
       "      <td>22.000000</td>\n",
       "      <td>0.000000</td>\n",
       "      <td>185.000000</td>\n",
       "      <td>6.400000</td>\n",
       "      <td>968.000000</td>\n",
       "      <td>779.500000</td>\n",
       "      <td>28.000000</td>\n",
       "      <td>34.445000</td>\n",
       "    </tr>\n",
       "    <tr>\n",
       "      <th>75%</th>\n",
       "      <td>350.000000</td>\n",
       "      <td>142.950000</td>\n",
       "      <td>118.300000</td>\n",
       "      <td>192.000000</td>\n",
       "      <td>10.200000</td>\n",
       "      <td>1029.400000</td>\n",
       "      <td>824.000000</td>\n",
       "      <td>56.000000</td>\n",
       "      <td>46.135000</td>\n",
       "    </tr>\n",
       "    <tr>\n",
       "      <th>max</th>\n",
       "      <td>540.000000</td>\n",
       "      <td>359.400000</td>\n",
       "      <td>200.100000</td>\n",
       "      <td>247.000000</td>\n",
       "      <td>32.200000</td>\n",
       "      <td>1145.000000</td>\n",
       "      <td>992.600000</td>\n",
       "      <td>365.000000</td>\n",
       "      <td>82.600000</td>\n",
       "    </tr>\n",
       "  </tbody>\n",
       "</table>\n",
       "</div>"
      ],
      "text/plain": [
       "            Cement  Blast Furnace Slag      Fly Ash        Water  \\\n",
       "count  1030.000000         1030.000000  1030.000000  1030.000000   \n",
       "mean    281.167864           73.895825    54.188350   181.567282   \n",
       "std     104.506364           86.279342    63.997004    21.354219   \n",
       "min     102.000000            0.000000     0.000000   121.800000   \n",
       "25%     192.375000            0.000000     0.000000   164.900000   \n",
       "50%     272.900000           22.000000     0.000000   185.000000   \n",
       "75%     350.000000          142.950000   118.300000   192.000000   \n",
       "max     540.000000          359.400000   200.100000   247.000000   \n",
       "\n",
       "       Superplasticizer  Coarse Aggregate  Fine Aggregate          Age  \\\n",
       "count       1030.000000       1030.000000     1030.000000  1030.000000   \n",
       "mean           6.204660        972.918932      773.580485    45.662136   \n",
       "std            5.973841         77.753954       80.175980    63.169912   \n",
       "min            0.000000        801.000000      594.000000     1.000000   \n",
       "25%            0.000000        932.000000      730.950000     7.000000   \n",
       "50%            6.400000        968.000000      779.500000    28.000000   \n",
       "75%           10.200000       1029.400000      824.000000    56.000000   \n",
       "max           32.200000       1145.000000      992.600000   365.000000   \n",
       "\n",
       "          Strength  \n",
       "count  1030.000000  \n",
       "mean     35.817961  \n",
       "std      16.705742  \n",
       "min       2.330000  \n",
       "25%      23.710000  \n",
       "50%      34.445000  \n",
       "75%      46.135000  \n",
       "max      82.600000  "
      ]
     },
     "execution_count": 4,
     "metadata": {},
     "output_type": "execute_result"
    }
   ],
   "source": [
    "concrete_data.describe()"
   ]
  },
  {
   "cell_type": "code",
   "execution_count": 5,
   "id": "4ff17b60-0c72-4c4a-8277-9826175bf7de",
   "metadata": {},
   "outputs": [
    {
     "data": {
      "text/plain": [
       "Cement                0\n",
       "Blast Furnace Slag    0\n",
       "Fly Ash               0\n",
       "Water                 0\n",
       "Superplasticizer      0\n",
       "Coarse Aggregate      0\n",
       "Fine Aggregate        0\n",
       "Age                   0\n",
       "Strength              0\n",
       "dtype: int64"
      ]
     },
     "execution_count": 5,
     "metadata": {},
     "output_type": "execute_result"
    }
   ],
   "source": [
    "concrete_data.isnull().sum()"
   ]
  },
  {
   "cell_type": "markdown",
   "id": "631e6ec8-4775-44bd-bc59-d4514811a14a",
   "metadata": {},
   "source": [
    "The data looks very clean and is ready to be used to build our model.\n"
   ]
  },
  {
   "cell_type": "markdown",
   "id": "7446c1e9-bbcc-4a53-88d6-32f98ea70cd6",
   "metadata": {},
   "source": [
    "#### Split data into predictors and target\n"
   ]
  },
  {
   "cell_type": "markdown",
   "id": "5add2c9f-fa4a-4d46-87a1-b553b419068d",
   "metadata": {},
   "source": [
    "The target variable in this problem is the concrete sample strength. Therefore, our predictors will be all the other columns.\n"
   ]
  },
  {
   "cell_type": "code",
   "execution_count": 11,
   "id": "1b9d0da2-9d8e-4ed6-92d4-75fb8e56579d",
   "metadata": {},
   "outputs": [
    {
     "data": {
      "text/plain": [
       "Index(['Cement', 'Blast Furnace Slag', 'Fly Ash', 'Water', 'Superplasticizer',\n",
       "       'Coarse Aggregate', 'Fine Aggregate', 'Age', 'Strength'],\n",
       "      dtype='object')"
      ]
     },
     "execution_count": 11,
     "metadata": {},
     "output_type": "execute_result"
    }
   ],
   "source": [
    "concrete_data_columns = concrete_data.columns\n",
    "concrete_data_columns"
   ]
  },
  {
   "cell_type": "code",
   "execution_count": 12,
   "id": "4f95001b-5d3f-4250-ac79-e952769ad6f9",
   "metadata": {},
   "outputs": [],
   "source": [
    "predictors = concrete_data[concrete_data_columns[concrete_data_columns != 'Strength']] # all columns except Strength\n",
    "target = concrete_data['Strength'] # Strength column"
   ]
  },
  {
   "cell_type": "markdown",
   "id": "8de62c03-0334-4e3d-a3f8-0114bd0bc035",
   "metadata": {},
   "source": [
    "<a id=\"item2\"></a>\n"
   ]
  },
  {
   "cell_type": "markdown",
   "id": "98c6282e-7125-4cce-9fb8-435b0f25440b",
   "metadata": {},
   "source": [
    "Let's do a quick sanity check of the predictors and the target dataframes.\n"
   ]
  },
  {
   "cell_type": "code",
   "execution_count": 13,
   "id": "e99c05e1-ae34-4551-a5d7-ae9daf691f8a",
   "metadata": {},
   "outputs": [
    {
     "data": {
      "text/html": [
       "<div>\n",
       "<style scoped>\n",
       "    .dataframe tbody tr th:only-of-type {\n",
       "        vertical-align: middle;\n",
       "    }\n",
       "\n",
       "    .dataframe tbody tr th {\n",
       "        vertical-align: top;\n",
       "    }\n",
       "\n",
       "    .dataframe thead th {\n",
       "        text-align: right;\n",
       "    }\n",
       "</style>\n",
       "<table border=\"1\" class=\"dataframe\">\n",
       "  <thead>\n",
       "    <tr style=\"text-align: right;\">\n",
       "      <th></th>\n",
       "      <th>Cement</th>\n",
       "      <th>Blast Furnace Slag</th>\n",
       "      <th>Fly Ash</th>\n",
       "      <th>Water</th>\n",
       "      <th>Superplasticizer</th>\n",
       "      <th>Coarse Aggregate</th>\n",
       "      <th>Fine Aggregate</th>\n",
       "      <th>Age</th>\n",
       "    </tr>\n",
       "  </thead>\n",
       "  <tbody>\n",
       "    <tr>\n",
       "      <th>0</th>\n",
       "      <td>540.0</td>\n",
       "      <td>0.0</td>\n",
       "      <td>0.0</td>\n",
       "      <td>162.0</td>\n",
       "      <td>2.5</td>\n",
       "      <td>1040.0</td>\n",
       "      <td>676.0</td>\n",
       "      <td>28</td>\n",
       "    </tr>\n",
       "    <tr>\n",
       "      <th>1</th>\n",
       "      <td>540.0</td>\n",
       "      <td>0.0</td>\n",
       "      <td>0.0</td>\n",
       "      <td>162.0</td>\n",
       "      <td>2.5</td>\n",
       "      <td>1055.0</td>\n",
       "      <td>676.0</td>\n",
       "      <td>28</td>\n",
       "    </tr>\n",
       "    <tr>\n",
       "      <th>2</th>\n",
       "      <td>332.5</td>\n",
       "      <td>142.5</td>\n",
       "      <td>0.0</td>\n",
       "      <td>228.0</td>\n",
       "      <td>0.0</td>\n",
       "      <td>932.0</td>\n",
       "      <td>594.0</td>\n",
       "      <td>270</td>\n",
       "    </tr>\n",
       "    <tr>\n",
       "      <th>3</th>\n",
       "      <td>332.5</td>\n",
       "      <td>142.5</td>\n",
       "      <td>0.0</td>\n",
       "      <td>228.0</td>\n",
       "      <td>0.0</td>\n",
       "      <td>932.0</td>\n",
       "      <td>594.0</td>\n",
       "      <td>365</td>\n",
       "    </tr>\n",
       "    <tr>\n",
       "      <th>4</th>\n",
       "      <td>198.6</td>\n",
       "      <td>132.4</td>\n",
       "      <td>0.0</td>\n",
       "      <td>192.0</td>\n",
       "      <td>0.0</td>\n",
       "      <td>978.4</td>\n",
       "      <td>825.5</td>\n",
       "      <td>360</td>\n",
       "    </tr>\n",
       "  </tbody>\n",
       "</table>\n",
       "</div>"
      ],
      "text/plain": [
       "   Cement  Blast Furnace Slag  Fly Ash  Water  Superplasticizer  \\\n",
       "0   540.0                 0.0      0.0  162.0               2.5   \n",
       "1   540.0                 0.0      0.0  162.0               2.5   \n",
       "2   332.5               142.5      0.0  228.0               0.0   \n",
       "3   332.5               142.5      0.0  228.0               0.0   \n",
       "4   198.6               132.4      0.0  192.0               0.0   \n",
       "\n",
       "   Coarse Aggregate  Fine Aggregate  Age  \n",
       "0            1040.0           676.0   28  \n",
       "1            1055.0           676.0   28  \n",
       "2             932.0           594.0  270  \n",
       "3             932.0           594.0  365  \n",
       "4             978.4           825.5  360  "
      ]
     },
     "execution_count": 13,
     "metadata": {},
     "output_type": "execute_result"
    }
   ],
   "source": [
    "predictors.head()"
   ]
  },
  {
   "cell_type": "code",
   "execution_count": 14,
   "id": "6b838c48-6305-4267-bdd6-7dd92cf046c9",
   "metadata": {},
   "outputs": [
    {
     "data": {
      "text/plain": [
       "0    79.99\n",
       "1    61.89\n",
       "2    40.27\n",
       "3    41.05\n",
       "4    44.30\n",
       "Name: Strength, dtype: float64"
      ]
     },
     "execution_count": 14,
     "metadata": {},
     "output_type": "execute_result"
    }
   ],
   "source": [
    "target.head()"
   ]
  },
  {
   "cell_type": "markdown",
   "id": "53d0f22f-d2f4-4ceb-b6b5-1a840ffd30c4",
   "metadata": {},
   "source": [
    "Finally, the last step is to normalize the data by substracting the mean and dividing by the standard deviation.\n"
   ]
  },
  {
   "cell_type": "code",
   "execution_count": 15,
   "id": "17a0491b-1f6e-48e9-adc9-34c216687717",
   "metadata": {},
   "outputs": [
    {
     "data": {
      "text/html": [
       "<div>\n",
       "<style scoped>\n",
       "    .dataframe tbody tr th:only-of-type {\n",
       "        vertical-align: middle;\n",
       "    }\n",
       "\n",
       "    .dataframe tbody tr th {\n",
       "        vertical-align: top;\n",
       "    }\n",
       "\n",
       "    .dataframe thead th {\n",
       "        text-align: right;\n",
       "    }\n",
       "</style>\n",
       "<table border=\"1\" class=\"dataframe\">\n",
       "  <thead>\n",
       "    <tr style=\"text-align: right;\">\n",
       "      <th></th>\n",
       "      <th>Cement</th>\n",
       "      <th>Blast Furnace Slag</th>\n",
       "      <th>Fly Ash</th>\n",
       "      <th>Water</th>\n",
       "      <th>Superplasticizer</th>\n",
       "      <th>Coarse Aggregate</th>\n",
       "      <th>Fine Aggregate</th>\n",
       "      <th>Age</th>\n",
       "    </tr>\n",
       "  </thead>\n",
       "  <tbody>\n",
       "    <tr>\n",
       "      <th>0</th>\n",
       "      <td>2.476712</td>\n",
       "      <td>-0.856472</td>\n",
       "      <td>-0.846733</td>\n",
       "      <td>-0.916319</td>\n",
       "      <td>-0.620147</td>\n",
       "      <td>0.862735</td>\n",
       "      <td>-1.217079</td>\n",
       "      <td>-0.279597</td>\n",
       "    </tr>\n",
       "    <tr>\n",
       "      <th>1</th>\n",
       "      <td>2.476712</td>\n",
       "      <td>-0.856472</td>\n",
       "      <td>-0.846733</td>\n",
       "      <td>-0.916319</td>\n",
       "      <td>-0.620147</td>\n",
       "      <td>1.055651</td>\n",
       "      <td>-1.217079</td>\n",
       "      <td>-0.279597</td>\n",
       "    </tr>\n",
       "    <tr>\n",
       "      <th>2</th>\n",
       "      <td>0.491187</td>\n",
       "      <td>0.795140</td>\n",
       "      <td>-0.846733</td>\n",
       "      <td>2.174405</td>\n",
       "      <td>-1.038638</td>\n",
       "      <td>-0.526262</td>\n",
       "      <td>-2.239829</td>\n",
       "      <td>3.551340</td>\n",
       "    </tr>\n",
       "    <tr>\n",
       "      <th>3</th>\n",
       "      <td>0.491187</td>\n",
       "      <td>0.795140</td>\n",
       "      <td>-0.846733</td>\n",
       "      <td>2.174405</td>\n",
       "      <td>-1.038638</td>\n",
       "      <td>-0.526262</td>\n",
       "      <td>-2.239829</td>\n",
       "      <td>5.055221</td>\n",
       "    </tr>\n",
       "    <tr>\n",
       "      <th>4</th>\n",
       "      <td>-0.790075</td>\n",
       "      <td>0.678079</td>\n",
       "      <td>-0.846733</td>\n",
       "      <td>0.488555</td>\n",
       "      <td>-1.038638</td>\n",
       "      <td>0.070492</td>\n",
       "      <td>0.647569</td>\n",
       "      <td>4.976069</td>\n",
       "    </tr>\n",
       "  </tbody>\n",
       "</table>\n",
       "</div>"
      ],
      "text/plain": [
       "     Cement  Blast Furnace Slag   Fly Ash     Water  Superplasticizer  \\\n",
       "0  2.476712           -0.856472 -0.846733 -0.916319         -0.620147   \n",
       "1  2.476712           -0.856472 -0.846733 -0.916319         -0.620147   \n",
       "2  0.491187            0.795140 -0.846733  2.174405         -1.038638   \n",
       "3  0.491187            0.795140 -0.846733  2.174405         -1.038638   \n",
       "4 -0.790075            0.678079 -0.846733  0.488555         -1.038638   \n",
       "\n",
       "   Coarse Aggregate  Fine Aggregate       Age  \n",
       "0          0.862735       -1.217079 -0.279597  \n",
       "1          1.055651       -1.217079 -0.279597  \n",
       "2         -0.526262       -2.239829  3.551340  \n",
       "3         -0.526262       -2.239829  5.055221  \n",
       "4          0.070492        0.647569  4.976069  "
      ]
     },
     "execution_count": 15,
     "metadata": {},
     "output_type": "execute_result"
    }
   ],
   "source": [
    "predictors_norm = (predictors - predictors.mean()) / predictors.std()\n",
    "predictors_norm.head()"
   ]
  },
  {
   "cell_type": "markdown",
   "id": "60cc3491-5656-4b3d-a522-00d147e9f557",
   "metadata": {},
   "source": [
    "Let's save the number of predictors to *n_cols* since we will need this number when building our network.\n"
   ]
  },
  {
   "cell_type": "code",
   "execution_count": 18,
   "id": "b3800cc5-2be0-486a-bd13-8f7de6813947",
   "metadata": {},
   "outputs": [
    {
     "data": {
      "text/plain": [
       "8"
      ]
     },
     "execution_count": 18,
     "metadata": {},
     "output_type": "execute_result"
    }
   ],
   "source": [
    "n_cols = predictors_norm.shape[1] # number of predictors\n",
    "predictors.shape[1]"
   ]
  },
  {
   "cell_type": "markdown",
   "id": "ba4419c4-8940-4257-96a6-504c02ccba43",
   "metadata": {},
   "source": [
    "<a id=\"item1\"></a>\n"
   ]
  },
  {
   "cell_type": "markdown",
   "id": "41bc5b2f-393c-43ab-b15d-0884e0e0d75a",
   "metadata": {},
   "source": [
    "<a id='item32'></a>\n"
   ]
  },
  {
   "cell_type": "markdown",
   "id": "5905e70c-c6f6-421d-8a09-03431a3aeb9e",
   "metadata": {},
   "source": [
    "##  Import Keras Packages\n",
    "\n",
    "##### Let's import the rest of the packages from the Keras library that we will need to build our regression model.\n"
   ]
  },
  {
   "cell_type": "code",
   "execution_count": 19,
   "id": "c7de1637-318d-4510-ad76-cfebdd83a274",
   "metadata": {},
   "outputs": [],
   "source": [
    "from keras.models import Sequential\n",
    "from keras.layers import Dense\n",
    "from keras.layers import Input"
   ]
  },
  {
   "cell_type": "markdown",
   "id": "33b3bdbd-a932-4719-80fa-195e03c9a5b2",
   "metadata": {},
   "source": [
    "<a id='item33'></a>\n"
   ]
  },
  {
   "cell_type": "markdown",
   "id": "045b0b01-47a2-4c87-88a3-9f4e7579749c",
   "metadata": {},
   "source": [
    "## Build a Neural Network\n"
   ]
  },
  {
   "cell_type": "markdown",
   "id": "728f4ef6-1fcf-4380-8d3d-91ccc9c28f84",
   "metadata": {},
   "source": [
    "Let's define a function that defines our regression model for us so that we can conveniently call it to create our model.\n"
   ]
  },
  {
   "cell_type": "code",
   "execution_count": 20,
   "id": "b81b21e0-e813-418c-9f4e-51d681528956",
   "metadata": {},
   "outputs": [],
   "source": [
    "# define regression model\n",
    "def regression_model():\n",
    "    # create model\n",
    "    model = Sequential()\n",
    "    model.add(Input(shape=(n_cols,)))\n",
    "    model.add(Dense(50, activation='relu'))\n",
    "    model.add(Dense(50, activation='relu'))\n",
    "    model.add(Dense(1))\n",
    "    \n",
    "    # compile model\n",
    "    model.compile(optimizer='adam', loss='mean_squared_error')\n",
    "    return model"
   ]
  },
  {
   "cell_type": "markdown",
   "id": "5faf1007-6b11-4b6d-b9e0-3c62ecf0cdf2",
   "metadata": {},
   "source": [
    "The above function create a model that has two hidden layers, each of 50 hidden units.\n"
   ]
  },
  {
   "cell_type": "markdown",
   "id": "3d19ef15-dcb5-47f9-993f-167d80229a52",
   "metadata": {},
   "source": [
    "<a id=\"item4\"></a>\n"
   ]
  },
  {
   "cell_type": "markdown",
   "id": "7fc49b43-5f18-4774-a595-972aaf027eaa",
   "metadata": {},
   "source": [
    "## Train and Test the Network\n"
   ]
  },
  {
   "cell_type": "markdown",
   "id": "a31d9301-7dcd-4794-85a1-8caa65cff512",
   "metadata": {},
   "source": [
    "Let's call the function now to create our model.\n"
   ]
  },
  {
   "cell_type": "code",
   "execution_count": 21,
   "id": "b1c5ef10-65bc-492d-9f5d-a2bdc9e5184e",
   "metadata": {},
   "outputs": [
    {
     "name": "stderr",
     "output_type": "stream",
     "text": [
      "2025-07-31 16:01:04.157948: E external/local_xla/xla/stream_executor/cuda/cuda_platform.cc:51] failed call to cuInit: INTERNAL: CUDA error: Failed call to cuInit: UNKNOWN ERROR (303)\n"
     ]
    }
   ],
   "source": [
    "# build the model\n",
    "model = regression_model()"
   ]
  },
  {
   "cell_type": "markdown",
   "id": "56194734-19f5-4ce1-87b6-964948bd49d0",
   "metadata": {},
   "source": [
    "Next, we will train and test the model at the same time using the *fit* method. We will leave out 30% of the data for validation and we will train the model for 100 epochs.\n"
   ]
  },
  {
   "cell_type": "code",
   "execution_count": 22,
   "id": "9a12ff0d-9c29-4d29-bc9b-0bdf7a5480cc",
   "metadata": {},
   "outputs": [
    {
     "name": "stdout",
     "output_type": "stream",
     "text": [
      "Epoch 1/100\n",
      "23/23 - 1s - 48ms/step - loss: 1628.6781 - val_loss: 1127.8435\n",
      "Epoch 2/100\n",
      "23/23 - 0s - 6ms/step - loss: 1481.6132 - val_loss: 992.2963\n",
      "Epoch 3/100\n",
      "23/23 - 0s - 5ms/step - loss: 1244.3640 - val_loss: 784.1945\n",
      "Epoch 4/100\n",
      "23/23 - 0s - 5ms/step - loss: 899.8236 - val_loss: 533.8278\n",
      "Epoch 5/100\n",
      "23/23 - 0s - 5ms/step - loss: 539.0445 - val_loss: 322.8394\n",
      "Epoch 6/100\n",
      "23/23 - 0s - 5ms/step - loss: 308.0600 - val_loss: 215.9168\n",
      "Epoch 7/100\n",
      "23/23 - 0s - 8ms/step - loss: 239.7370 - val_loss: 177.5009\n",
      "Epoch 8/100\n",
      "23/23 - 0s - 5ms/step - loss: 215.4617 - val_loss: 169.1493\n",
      "Epoch 9/100\n",
      "23/23 - 0s - 5ms/step - loss: 203.0785 - val_loss: 162.4093\n",
      "Epoch 10/100\n",
      "23/23 - 0s - 5ms/step - loss: 193.7809 - val_loss: 161.8123\n",
      "Epoch 11/100\n",
      "23/23 - 0s - 6ms/step - loss: 186.7863 - val_loss: 159.0287\n",
      "Epoch 12/100\n",
      "23/23 - 0s - 5ms/step - loss: 181.8156 - val_loss: 157.7429\n",
      "Epoch 13/100\n",
      "23/23 - 0s - 5ms/step - loss: 176.8958 - val_loss: 155.2010\n",
      "Epoch 14/100\n",
      "23/23 - 0s - 7ms/step - loss: 172.8818 - val_loss: 155.2041\n",
      "Epoch 15/100\n",
      "23/23 - 0s - 5ms/step - loss: 169.5090 - val_loss: 156.2426\n",
      "Epoch 16/100\n",
      "23/23 - 0s - 5ms/step - loss: 166.1379 - val_loss: 153.0467\n",
      "Epoch 17/100\n",
      "23/23 - 0s - 4ms/step - loss: 162.9451 - val_loss: 152.9105\n",
      "Epoch 18/100\n",
      "23/23 - 0s - 4ms/step - loss: 160.4763 - val_loss: 151.8231\n",
      "Epoch 19/100\n",
      "23/23 - 0s - 4ms/step - loss: 157.7696 - val_loss: 151.3467\n",
      "Epoch 20/100\n",
      "23/23 - 0s - 4ms/step - loss: 156.0043 - val_loss: 151.5061\n",
      "Epoch 21/100\n",
      "23/23 - 0s - 4ms/step - loss: 153.5599 - val_loss: 149.9545\n",
      "Epoch 22/100\n",
      "23/23 - 0s - 4ms/step - loss: 151.9007 - val_loss: 151.0038\n",
      "Epoch 23/100\n",
      "23/23 - 0s - 4ms/step - loss: 150.4378 - val_loss: 149.5516\n",
      "Epoch 24/100\n",
      "23/23 - 0s - 4ms/step - loss: 148.0891 - val_loss: 150.5688\n",
      "Epoch 25/100\n",
      "23/23 - 0s - 4ms/step - loss: 146.3826 - val_loss: 149.4739\n",
      "Epoch 26/100\n",
      "23/23 - 0s - 4ms/step - loss: 145.3602 - val_loss: 149.3041\n",
      "Epoch 27/100\n",
      "23/23 - 0s - 4ms/step - loss: 143.6514 - val_loss: 148.1791\n",
      "Epoch 28/100\n",
      "23/23 - 0s - 4ms/step - loss: 141.8681 - val_loss: 148.5028\n",
      "Epoch 29/100\n",
      "23/23 - 0s - 4ms/step - loss: 141.1341 - val_loss: 148.5242\n",
      "Epoch 30/100\n",
      "23/23 - 0s - 4ms/step - loss: 139.7471 - val_loss: 149.9229\n",
      "Epoch 31/100\n",
      "23/23 - 0s - 4ms/step - loss: 138.3211 - val_loss: 152.4755\n",
      "Epoch 32/100\n",
      "23/23 - 0s - 4ms/step - loss: 137.2412 - val_loss: 149.2928\n",
      "Epoch 33/100\n",
      "23/23 - 0s - 4ms/step - loss: 135.3853 - val_loss: 150.0129\n",
      "Epoch 34/100\n",
      "23/23 - 0s - 4ms/step - loss: 134.7300 - val_loss: 151.9536\n",
      "Epoch 35/100\n",
      "23/23 - 0s - 4ms/step - loss: 133.2214 - val_loss: 151.7551\n",
      "Epoch 36/100\n",
      "23/23 - 0s - 4ms/step - loss: 132.1540 - val_loss: 151.5961\n",
      "Epoch 37/100\n",
      "23/23 - 0s - 4ms/step - loss: 131.1372 - val_loss: 150.2254\n",
      "Epoch 38/100\n",
      "23/23 - 0s - 4ms/step - loss: 129.9869 - val_loss: 151.4949\n",
      "Epoch 39/100\n",
      "23/23 - 0s - 4ms/step - loss: 128.8319 - val_loss: 150.2507\n",
      "Epoch 40/100\n",
      "23/23 - 0s - 4ms/step - loss: 127.9700 - val_loss: 152.6062\n",
      "Epoch 41/100\n",
      "23/23 - 0s - 4ms/step - loss: 127.0444 - val_loss: 151.2110\n",
      "Epoch 42/100\n",
      "23/23 - 0s - 4ms/step - loss: 126.0879 - val_loss: 151.8343\n",
      "Epoch 43/100\n",
      "23/23 - 0s - 4ms/step - loss: 124.8809 - val_loss: 150.9606\n",
      "Epoch 44/100\n",
      "23/23 - 0s - 4ms/step - loss: 123.7097 - val_loss: 156.6570\n",
      "Epoch 45/100\n",
      "23/23 - 0s - 4ms/step - loss: 122.4558 - val_loss: 151.2440\n",
      "Epoch 46/100\n",
      "23/23 - 0s - 5ms/step - loss: 121.2949 - val_loss: 154.0257\n",
      "Epoch 47/100\n",
      "23/23 - 0s - 5ms/step - loss: 119.7644 - val_loss: 152.3537\n",
      "Epoch 48/100\n",
      "23/23 - 0s - 5ms/step - loss: 119.2185 - val_loss: 154.6156\n",
      "Epoch 49/100\n",
      "23/23 - 0s - 5ms/step - loss: 117.6071 - val_loss: 154.7263\n",
      "Epoch 50/100\n",
      "23/23 - 0s - 5ms/step - loss: 116.6284 - val_loss: 155.2147\n",
      "Epoch 51/100\n",
      "23/23 - 0s - 6ms/step - loss: 115.9941 - val_loss: 156.0057\n",
      "Epoch 52/100\n",
      "23/23 - 0s - 6ms/step - loss: 115.0611 - val_loss: 154.8477\n",
      "Epoch 53/100\n",
      "23/23 - 0s - 6ms/step - loss: 113.0651 - val_loss: 155.4253\n",
      "Epoch 54/100\n",
      "23/23 - 0s - 6ms/step - loss: 112.4471 - val_loss: 156.9125\n",
      "Epoch 55/100\n",
      "23/23 - 0s - 7ms/step - loss: 110.4137 - val_loss: 153.3822\n",
      "Epoch 56/100\n",
      "23/23 - 0s - 5ms/step - loss: 109.8639 - val_loss: 155.3645\n",
      "Epoch 57/100\n",
      "23/23 - 0s - 5ms/step - loss: 108.3197 - val_loss: 159.0475\n",
      "Epoch 58/100\n",
      "23/23 - 0s - 6ms/step - loss: 106.6839 - val_loss: 153.0833\n",
      "Epoch 59/100\n",
      "23/23 - 0s - 5ms/step - loss: 105.7797 - val_loss: 153.6373\n",
      "Epoch 60/100\n",
      "23/23 - 0s - 5ms/step - loss: 104.6383 - val_loss: 151.6602\n",
      "Epoch 61/100\n",
      "23/23 - 0s - 5ms/step - loss: 103.1167 - val_loss: 153.6706\n",
      "Epoch 62/100\n",
      "23/23 - 0s - 5ms/step - loss: 101.9314 - val_loss: 153.9472\n",
      "Epoch 63/100\n",
      "23/23 - 0s - 5ms/step - loss: 99.4408 - val_loss: 150.7775\n",
      "Epoch 64/100\n",
      "23/23 - 0s - 5ms/step - loss: 97.8647 - val_loss: 150.2219\n",
      "Epoch 65/100\n",
      "23/23 - 0s - 4ms/step - loss: 96.3967 - val_loss: 149.4299\n",
      "Epoch 66/100\n",
      "23/23 - 0s - 4ms/step - loss: 95.0067 - val_loss: 147.4264\n",
      "Epoch 67/100\n",
      "23/23 - 0s - 5ms/step - loss: 92.7304 - val_loss: 140.0868\n",
      "Epoch 68/100\n",
      "23/23 - 0s - 4ms/step - loss: 88.2740 - val_loss: 135.8629\n",
      "Epoch 69/100\n",
      "23/23 - 0s - 4ms/step - loss: 85.6880 - val_loss: 131.5695\n",
      "Epoch 70/100\n",
      "23/23 - 0s - 4ms/step - loss: 83.6491 - val_loss: 132.0820\n",
      "Epoch 71/100\n",
      "23/23 - 0s - 4ms/step - loss: 80.6488 - val_loss: 129.3030\n",
      "Epoch 72/100\n",
      "23/23 - 0s - 4ms/step - loss: 78.3581 - val_loss: 125.9740\n",
      "Epoch 73/100\n",
      "23/23 - 0s - 5ms/step - loss: 76.9335 - val_loss: 126.7067\n",
      "Epoch 74/100\n",
      "23/23 - 0s - 5ms/step - loss: 74.1361 - val_loss: 122.1231\n",
      "Epoch 75/100\n",
      "23/23 - 0s - 5ms/step - loss: 70.8743 - val_loss: 118.4510\n",
      "Epoch 76/100\n",
      "23/23 - 0s - 5ms/step - loss: 68.8528 - val_loss: 116.5312\n",
      "Epoch 77/100\n",
      "23/23 - 0s - 5ms/step - loss: 67.0353 - val_loss: 116.6147\n",
      "Epoch 78/100\n",
      "23/23 - 0s - 4ms/step - loss: 64.7084 - val_loss: 115.5616\n",
      "Epoch 79/100\n",
      "23/23 - 0s - 4ms/step - loss: 62.7351 - val_loss: 105.5081\n",
      "Epoch 80/100\n",
      "23/23 - 0s - 4ms/step - loss: 61.3902 - val_loss: 111.9879\n",
      "Epoch 81/100\n",
      "23/23 - 0s - 4ms/step - loss: 59.7686 - val_loss: 107.8330\n",
      "Epoch 82/100\n",
      "23/23 - 0s - 5ms/step - loss: 58.0566 - val_loss: 106.3460\n",
      "Epoch 83/100\n",
      "23/23 - 0s - 6ms/step - loss: 57.5341 - val_loss: 101.5141\n",
      "Epoch 84/100\n",
      "23/23 - 0s - 4ms/step - loss: 55.4529 - val_loss: 106.9251\n",
      "Epoch 85/100\n",
      "23/23 - 0s - 5ms/step - loss: 54.1984 - val_loss: 101.1579\n",
      "Epoch 86/100\n",
      "23/23 - 0s - 4ms/step - loss: 52.6616 - val_loss: 106.3727\n",
      "Epoch 87/100\n",
      "23/23 - 0s - 4ms/step - loss: 52.0746 - val_loss: 105.6051\n",
      "Epoch 88/100\n",
      "23/23 - 0s - 4ms/step - loss: 51.0205 - val_loss: 100.3337\n",
      "Epoch 89/100\n",
      "23/23 - 0s - 4ms/step - loss: 49.1612 - val_loss: 101.3857\n",
      "Epoch 90/100\n",
      "23/23 - 0s - 4ms/step - loss: 48.3523 - val_loss: 97.0682\n",
      "Epoch 91/100\n",
      "23/23 - 0s - 4ms/step - loss: 48.0732 - val_loss: 101.7287\n",
      "Epoch 92/100\n",
      "23/23 - 0s - 4ms/step - loss: 46.6390 - val_loss: 97.0536\n",
      "Epoch 93/100\n",
      "23/23 - 0s - 5ms/step - loss: 45.6486 - val_loss: 96.3397\n",
      "Epoch 94/100\n",
      "23/23 - 0s - 4ms/step - loss: 44.9637 - val_loss: 98.7175\n",
      "Epoch 95/100\n",
      "23/23 - 0s - 4ms/step - loss: 43.9966 - val_loss: 101.4851\n",
      "Epoch 96/100\n",
      "23/23 - 0s - 4ms/step - loss: 43.1215 - val_loss: 100.6439\n",
      "Epoch 97/100\n",
      "23/23 - 0s - 4ms/step - loss: 42.4759 - val_loss: 97.1273\n",
      "Epoch 98/100\n",
      "23/23 - 0s - 4ms/step - loss: 41.7153 - val_loss: 99.7534\n",
      "Epoch 99/100\n",
      "23/23 - 0s - 4ms/step - loss: 41.3008 - val_loss: 102.9136\n",
      "Epoch 100/100\n",
      "23/23 - 0s - 4ms/step - loss: 40.1753 - val_loss: 92.4062\n"
     ]
    },
    {
     "data": {
      "text/plain": [
       "<keras.src.callbacks.history.History at 0x7fafd8178980>"
      ]
     },
     "execution_count": 22,
     "metadata": {},
     "output_type": "execute_result"
    }
   ],
   "source": [
    "# fit the model\n",
    "model.fit(predictors_norm, target, validation_split=0.3, epochs=100, verbose=2)"
   ]
  },
  {
   "cell_type": "markdown",
   "id": "ac9c1534-12b4-4705-859c-b5affecb3c2f",
   "metadata": {},
   "source": [
    "<strong>You can refer to this [link](https://keras.io/models/sequential/) to learn about other functions that you can use for prediction or evaluation.</strong>\n"
   ]
  },
  {
   "cell_type": "markdown",
   "id": "1f1bff55-1a35-4360-91e1-b80433d7e39b",
   "metadata": {},
   "source": [
    "Feel free to vary the following and note what impact each change has on the model's performance:\n",
    "\n",
    "1. Increase or decreate number of neurons in hidden layers\n",
    "2. Add more hidden layers\n",
    "3. Increase number of epochs\n"
   ]
  },
  {
   "cell_type": "markdown",
   "id": "49393892-6ed5-43f5-9e61-aec25003886c",
   "metadata": {},
   "source": [
    "### Thank you for completing this lab!\n",
    "\n",
    "This notebook was created by [Alex Aklson](https://www.linkedin.com/in/aklson/). I hope you found this lab interesting and educational. Feel free to contact me if you have any questions!\n"
   ]
  },
  {
   "cell_type": "markdown",
   "id": "53d16b11-a494-434f-ac46-97b58fb17bd0",
   "metadata": {},
   "source": [
    "<!--\n",
    "## Change Log\n",
    "\n",
    "|  Date (YYYY-MM-DD) |  Version | Changed By  |  Change Description |\n",
    "|---|---|---|---|\n",
    "| 2024-11-20  | 3.0  | Aman  |  Updated the library versions to current |\n",
    "| 2020-09-21  | 2.0  | Srishti  |  Migrated Lab to Markdown and added to course repo in GitLab |\n",
    "\n",
    "\n",
    "\n",
    "<hr>\n",
    "\n",
    "## <h3 align=\"center\"> © IBM Corporation. All rights reserved. <h3/>\n"
   ]
  },
  {
   "cell_type": "markdown",
   "id": "352b2a70-7333-4c27-b099-1ac629233125",
   "metadata": {},
   "source": [
    "<hr>\n",
    "\n",
    "Copyright &copy; [IBM Developer Skills Network](https://cognitiveclass.ai/?utm_source=bducopyrightlink&utm_medium=dswb&utm_campaign=bdu). This notebook and its source code are released under the terms of the [MIT License](https://opensource.org/license/mit).\n"
   ]
  },
  {
   "cell_type": "code",
   "execution_count": null,
   "id": "95317dbe-3d91-4a0f-bb19-99c017d1ca75",
   "metadata": {},
   "outputs": [],
   "source": []
  }
 ],
 "metadata": {
  "kernelspec": {
   "display_name": "coursera",
   "language": "python",
   "name": "python3"
  },
  "language_info": {
   "codemirror_mode": {
    "name": "ipython",
    "version": 3
   },
   "file_extension": ".py",
   "mimetype": "text/x-python",
   "name": "python",
   "nbconvert_exporter": "python",
   "pygments_lexer": "ipython3",
   "version": "3.13.5"
  },
  "prev_pub_hash": "cbb86e20eb1e13d10f60b5e08fb000a189e0799554e7482999da2a778d69cfdf"
 },
 "nbformat": 4,
 "nbformat_minor": 4
}
