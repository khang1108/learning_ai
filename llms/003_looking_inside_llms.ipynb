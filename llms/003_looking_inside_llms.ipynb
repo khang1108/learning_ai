{
 "cells": [
  {
   "cell_type": "markdown",
   "id": "5391e0de",
   "metadata": {},
   "source": [
    "## **CHAPTER 3: Looking Inside Large Language Models**"
   ]
  },
  {
   "cell_type": "code",
   "execution_count": null,
   "id": "93675a65",
   "metadata": {},
   "outputs": [],
   "source": [
    "import torch\n",
    "from transformers import AutoModelForCausalLM, AutoTokenizer\n",
    "\n",
    "name_model = \"microsoft/Phi-3-mini-4k-instruct\"\n",
    "tokenizer = AutoTokenizer.from_pretrained(name_model)\n",
    "\n",
    "model = AutoModelForCausalLM.from_pretrained(\n",
    "    name_model,\n",
    "    device_\n",
    ")"
   ]
  }
 ],
 "metadata": {
  "kernelspec": {
   "display_name": "learning_ai",
   "language": "python",
   "name": "python3"
  },
  "language_info": {
   "name": "python",
   "version": "3.12.7"
  }
 },
 "nbformat": 4,
 "nbformat_minor": 5
}
